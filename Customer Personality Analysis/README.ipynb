{
 "cells": [
  {
   "cell_type": "markdown",
   "id": "99eec6ce-b2eb-40c4-b161-8707f9699bb9",
   "metadata": {},
   "source": [
    "## Overview (In Progress)\n",
    "Customer Personality Analysis is a detailed analysis of a company’s ideal customers. It helps businesses better understand their customers and makes it easier for them to modify products according to the specific needs, behaviors, and concerns of different types of customers.\n",
    "\n",
    "By leveraging customer personality analysis, businesses can tailor their products based on target customer segments. Instead of marketing a new product to every customer in the database, companies can analyze which customer segment is most likely to buy the product and focus their marketing efforts accordingly.\n",
    "\n",
    "\n",
    "## Data Gathering\n",
    "In this project, I will use a dataset downloaded from [Kaggle](https://www.kaggle.com/datasets/imakash3011/customer-personality-analysis).  \n",
    "The dataset consists of **29 columns** and **2,240 rows**.\n",
    "\n",
    "> According to the information in this [link](https://github.com/nailson/ifood-data-business-analyst-test/tree/master), this dataset is used for hiring Data Analysts for the iFood Brain team. It was last updated on **February 19, 2020**.\n",
    "\n",
    "## Columns Description\n",
    "\n",
    "### Customer Information\n",
    "- **ID**: Customer's unique identifier  \n",
    "- **Year_Birth**: Customer's birth year  \n",
    "- **Education**: Customer's education level  \n",
    "- **Marital_Status**: Customer's marital status  \n",
    "- **Income**: Customer's yearly household income  \n",
    "- **Kidhome**: Number of children in the customer's household  \n",
    "- **Teenhome**: Number of teenagers in the customer's household  \n",
    "- **Dt_Customer**: Date of customer's enrollment with the company  \n",
    "- **Recency**: Number of days since the customer's last purchase  \n",
    "- **Complain**: `1` if the customer complained in the last 2 years, `0` otherwise  \n",
    "\n",
    "### Spending Behavior\n",
    "- **MntWines**: Amount spent on wine in the last 2 years  \n",
    "- **MntFruits**: Amount spent on fruits in the last 2 years  \n",
    "- **MntMeatProducts**: Amount spent on meat in the last 2 years  \n",
    "- **MntFishProducts**: Amount spent on fish in the last 2 years  \n",
    "- **MntSweetProducts**: Amount spent on sweets in the last 2 years  \n",
    "- **MntGoldProds**: Amount spent on gold in the last 2 years  \n",
    "\n",
    "### Purchase Behavior\n",
    "- **NumDealsPurchases**: Number of purchases made with a discount  \n",
    "- **NumWebPurchases**: Number of purchases made through the company’s website  \n",
    "- **NumCatalogPurchases**: Number of purchases made using a catalog  \n",
    "- **NumStorePurchases**: Number of purchases made directly in stores  \n",
    "- **NumWebVisitsMonth**: Number of visits to the company’s website in the last month  \n",
    "\n",
    "### Campaign Response\n",
    "- **AcceptedCmp1**: `1` if the customer accepted the offer in the 1st campaign, `0` otherwise  \n",
    "- **AcceptedCmp2**: `1` if the customer accepted the offer in the 2nd campaign, `0` otherwise  \n",
    "- **AcceptedCmp3**: `1` if the customer accepted the offer in the 3rd campaign, `0` otherwise  \n",
    "- **AcceptedCmp4**: `1` if the customer accepted the offer in the 4th campaign, `0` otherwise  \n",
    "- **AcceptedCmp5**: `1` if the customer accepted the offer in the 5th campaign, `0` otherwise  \n",
    "- **Response**: `1` if the customer accepted the offer in the last campaign, `0` otherwise  \n"
   ]
  },
  {
   "cell_type": "markdown",
   "id": "df31a6e7-07ea-412b-956f-03993d38d710",
   "metadata": {},
   "source": [
    "## Data Assessing\n",
    "\n",
    "- The **`Income`** column contains **13 null values**.  \n",
    "- The **`Dt_Customer`** column needs to be converted to the **Date** type.  \n",
    "- **Unnecessary columns** for analysis: `Z_costContact`, `Z_revenue`.  "
   ]
  },
  {
   "cell_type": "markdown",
   "id": "8d5b90a9-ca3f-4fc0-8c19-6a075d713131",
   "metadata": {},
   "source": [
    "## Data Cleaning"
   ]
  },
  {
   "cell_type": "markdown",
   "id": "66ec5994-db05-4046-92c2-bdbaf94e4166",
   "metadata": {},
   "source": [
    "1. Drop rows with missing values in the **`Income`** column.  \n",
    "   - Since there are only **13 null values**, which is a very small proportion of the dataset, removing them is unlikely to significantly affect the analysis results.  \n",
    "\n",
    "2. Convert the datatype of the **`Dt_Customer`** column to **Date** type.  \n",
    "   - When I tried to change the type directly, I got an error because the data follows the **day-month-year** format. So, I converted it using the **Brazilian locale**, as this dataset is related to a food delivery app in Brazil, and it worked.  \n",
    "\n",
    "3. Drop **unnecessary columns** for analysis: `Z_costContact`, `Z_revenue`.  \n",
    "\n",
    "4. Create a new column named `AcceptedCmp` representing the number of offers that the customer has accepted.\n",
    "\n",
    "5. Create a new column to represent the customer age name `Customer Age`"
   ]
  }
 ],
 "metadata": {
  "kernelspec": {
   "display_name": "Python 3 (ipykernel)",
   "language": "python",
   "name": "python3"
  },
  "language_info": {
   "codemirror_mode": {
    "name": "ipython",
    "version": 3
   },
   "file_extension": ".py",
   "mimetype": "text/x-python",
   "name": "python",
   "nbconvert_exporter": "python",
   "pygments_lexer": "ipython3",
   "version": "3.12.7"
  }
 },
 "nbformat": 4,
 "nbformat_minor": 5
}
