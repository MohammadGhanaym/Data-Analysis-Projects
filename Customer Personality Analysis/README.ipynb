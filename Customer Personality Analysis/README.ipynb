{
 "cells": [
  {
   "cell_type": "markdown",
   "id": "99eec6ce-b2eb-40c4-b161-8707f9699bb9",
   "metadata": {},
   "source": [
    "## Overview (In Progress)\n",
    "Customer Personality Analysis is a detailed analysis of a company’s ideal customers. It helps businesses better understand their customers and makes it easier for them to modify products according to the specific needs, behaviors, and concerns of different types of customers.\n",
    "\n",
    "By leveraging customer personality analysis, businesses can tailor their products based on target customer segments. Instead of marketing a new product to every customer in the database, companies can analyze which customer segment is most likely to buy the product and focus their marketing efforts accordingly.\n",
    "\n",
    "## Questions to Answer\n",
    "1. Does the education level affect the number of accepted offers?  \n",
    "2. Does marital status affect the number of accepted offers?  \n",
    "3. Are customers with dependents more likely to accept an offer?  \n",
    "4. Which age group is more likely to accept an offer?\n",
    "5. What is the average number of days since the last purchase for customers who are more likely to accept an offer?\n",
    "6. Are customers with higher incomes more likely to accept an offer?  \n",
    "7. Are customers who spend more money on fruits more likely to accept an offer?  \n",
    "8. Are customers who spend more money on meat products more likely to accept an offer?  \n",
    "9. Are customers who spend more money on fish products more likely to accept an offer?  \n",
    "10. Are customers who spend more money on sweet products more likely to accept an offer?  \n",
    "11. Are customers who have a higher number of website visits and online purchases in the last month more likely to accept an offer?  \n",
    "12. Are customers who have made more purchases in stores and through catalogs more likely to accept an offer?  \n",
    "13. Are customers who frequently use discounts for purchases more likely to accept an offer?  \n",
    "    \n",
    "## Data Gathering\n",
    "In this project, I will use a dataset downloaded from [Kaggle](https://www.kaggle.com/datasets/imakash3011/customer-personality-analysis).  \n",
    "The dataset consists of **29 columns** and **2,240 rows**.\n",
    "\n",
    "> According to the information in this [link](https://github.com/nailson/ifood-data-business-analyst-test/tree/master), this dataset is used for hiring Data Analysts for the iFood Brain team. It was last updated on **February 19, 2020**.\n",
    "\n",
    "## Columns Description\n",
    "\n",
    "### Customer Information\n",
    "- **ID**: Customer's unique identifier  \n",
    "- **Year_Birth**: Customer's birth year  \n",
    "- **Education**: Customer's education level  \n",
    "- **Marital_Status**: Customer's marital status  \n",
    "- **Income**: Customer's yearly household income  \n",
    "- **Kidhome**: Number of children in the customer's household  \n",
    "- **Teenhome**: Number of teenagers in the customer's household  \n",
    "- **Dt_Customer**: Date of customer's enrollment with the company  \n",
    "- **Recency**: Number of days since the customer's last purchase  \n",
    "- **Complain**: `1` if the customer complained in the last 2 years, `0` otherwise  \n",
    "\n",
    "### Spending Behavior\n",
    "- **MntWines**: Amount spent on wine in the last 2 years  \n",
    "- **MntFruits**: Amount spent on fruits in the last 2 years  \n",
    "- **MntMeatProducts**: Amount spent on meat in the last 2 years  \n",
    "- **MntFishProducts**: Amount spent on fish in the last 2 years  \n",
    "- **MntSweetProducts**: Amount spent on sweets in the last 2 years  \n",
    "- **MntGoldProds**: Amount spent on gold in the last 2 years  \n",
    "\n",
    "### Purchase Behavior\n",
    "- **NumDealsPurchases**: Number of purchases made with a discount  \n",
    "- **NumWebPurchases**: Number of purchases made through the company’s website  \n",
    "- **NumCatalogPurchases**: Number of purchases made using a catalog  \n",
    "- **NumStorePurchases**: Number of purchases made directly in stores  \n",
    "- **NumWebVisitsMonth**: Number of visits to the company’s website in the last month  \n",
    "\n",
    "### Campaign Response\n",
    "- **AcceptedCmp1**: `1` if the customer accepted the offer in the 1st campaign, `0` otherwise  \n",
    "- **AcceptedCmp2**: `1` if the customer accepted the offer in the 2nd campaign, `0` otherwise  \n",
    "- **AcceptedCmp3**: `1` if the customer accepted the offer in the 3rd campaign, `0` otherwise  \n",
    "- **AcceptedCmp4**: `1` if the customer accepted the offer in the 4th campaign, `0` otherwise  \n",
    "- **AcceptedCmp5**: `1` if the customer accepted the offer in the 5th campaign, `0` otherwise  \n",
    "- **Response**: `1` if the customer accepted the offer in the last campaign, `0` otherwise  \n"
   ]
  },
  {
   "cell_type": "markdown",
   "id": "df31a6e7-07ea-412b-956f-03993d38d710",
   "metadata": {},
   "source": [
    "## Data Assessing\n",
    "\n",
    "- The **`Income`** column contains **13 null values**.  \n",
    "- The **`Dt_Customer`** column needs to be converted to the **Date** type.  \n",
    "- **Unnecessary columns** for analysis: `Z_costContact`, `Z_revenue`.\n",
    "- The `Complain` Column has only 7 complaints so I don't think it could help my analysis."
   ]
  },
  {
   "cell_type": "markdown",
   "id": "8d5b90a9-ca3f-4fc0-8c19-6a075d713131",
   "metadata": {},
   "source": [
    "## Data Cleaning"
   ]
  },
  {
   "cell_type": "markdown",
   "id": "66ec5994-db05-4046-92c2-bdbaf94e4166",
   "metadata": {},
   "source": [
    "\n",
    "1. **Drop rows with missing values** in the **`Income`** column.  \n",
    "   - Since there are only **13 null values**, which represent a very small proportion of the dataset, removing them is unlikely to significantly affect the analysis results.  \n",
    "\n",
    "2. **Convert the data type** of the **`Dt_Customer`** column to **Date** type.  \n",
    "   - When I tried to change the type directly, I encountered an error because the data follows the **day-month-year** format. To resolve this, I converted it using the **Brazilian locale**, as this dataset is related to a food delivery app in Brazil, and it worked.  \n",
    "\n",
    "3. **Drop unnecessary columns** for analysis: `Z_costContact`, `Z_revenue`.  \n",
    "\n",
    "4. **Create a new column** named `AcceptedCmp`, which represents the number of offers the customer has accepted, excluding the last campaign.\n",
    "5. **Create a new column** named `Customer Age` to represent the customer's age.  \n",
    "   - Since the data was last updated in 2020, I calculated the customer's age by subtracting their year of birth from 2020.\n",
    "   - After creating the column I found 3 customers with ages of more than 100 so, I deleted those values.\n",
    "\n",
    "6. **Create a new column** named `Age Group` that categorizes age into three groups: `24-44`, `45-65`, and `65 and Over`.\n",
    "\n",
    "7. There were duplicate rows, so I removed them.\n",
    "\n",
    "8. The `Marital_Status` column has some unusual values, such as `YOLO` and `Absurd`.  \n",
    "\n",
    "   - There are only **two rows** with the value `YOLO`, and they contain identical information except for the `ID`. Therefore, I will drop them.  \n",
    "   - There are also **two rows** with the value `Absurd`. Since I am unsure which category they belong to, I will drop them.  \n",
    "   - There are **inconsistent values** such as `Alone` and `Single`, which have the same meaning. To maintain consistency, I will replace `Alone` with `Single`.\n",
    "   - Now, we only have Single, Together, Married, Divorced, and Widow.\n",
    "    \n",
    "8. Create a new column called `Dependents` that represents the total number of dependents (kids + teenagers)."
   ]
  },
  {
   "cell_type": "markdown",
   "id": "5b0b41c5-e2d9-4344-b0cc-156f0ae109a9",
   "metadata": {},
   "source": [
    "## Exploratory Data Analysis"
   ]
  },
  {
   "attachments": {
    "3fd9a192-cfc0-4096-b1e8-a276097d1bd0.png": {
     "image/png": "[encoded data removed]"
    }
   },
   "cell_type": "markdown",
   "id": "06cccac3-19af-43f6-a626-66864bbab63c",
   "metadata": {},
   "source": [
    "#### How likely are customers who accepted previous offers to accept the next offer?\n",
    "![image.png](attachment:3fd9a192-cfc0-4096-b1e8-a276097d1bd0.png)\n",
    "\n",
    "- As the number of accepted offers in past campaigns increases, the proportion of customers who accepted the last offer also increases.  \n",
    "- Therefore, the more offers a customer has accepted in the past, the more likely they are to accept the next offer."
   ]
  },
  {
   "attachments": {
    "d4736bbd-43df-4014-9357-56f91272760b.png": {
     "image/png": "[encoded data removed]"
    }
   },
   "cell_type": "markdown",
   "id": "291215c6-b9c9-42d0-ab95-ff69cdd733b8",
   "metadata": {},
   "source": [
    "#### Does the education level affect the number of accepted offers?\n",
    "![image.png](attachment:d4736bbd-43df-4014-9357-56f91272760b.png)\n",
    "- We can see that the higher the customer's education level, the more likely they are to accept an offer."
   ]
  },
  {
   "attachments": {
    "19d200f6-c21e-4c98-821b-c8a642f0be0c.png": {
     "image/png": "[encoded data removed]"
    }
   },
   "cell_type": "markdown",
   "id": "1303fba1-167d-449f-98b2-4921bcc78d08",
   "metadata": {},
   "source": [
    "#### Does marital status affect the number of accepted offers?\n",
    "![image.png](attachment:19d200f6-c21e-4c98-821b-c8a642f0be0c.png)\n",
    "- We can see that customers who are not in a relationship are more likely to accept offers."
   ]
  },
  {
   "attachments": {
    "1fe5d757-5e7c-4c2e-883b-8425b6aeab02.png": {
     "image/png": "[encoded data removed]"
    }
   },
   "cell_type": "markdown",
   "id": "0fc95742-1c8a-4e43-9e47-ddf217a8f7a3",
   "metadata": {},
   "source": [
    "#### Are customers with dependents more likely to accept an offer?\n",
    "![image.png](attachment:1fe5d757-5e7c-4c2e-883b-8425b6aeab02.png)\n",
    "- Customers with dependents are less likely to accept an offer because, as the number of dependents increases, the proportion of customers who accepted an offer decreases."
   ]
  },
  {
   "attachments": {
    "e4d9fdc3-c82c-439a-840e-f92b582de1d9.png": {
     "image/png": "[encoded data removed]"
    }
   },
   "cell_type": "markdown",
   "id": "2c596118-3812-4689-bd36-3b4c2736b024",
   "metadata": {},
   "source": [
    "#### Which age group is more likely to accept an offer?\n",
    "![image.png](attachment:e4d9fdc3-c82c-439a-840e-f92b582de1d9.png)\n",
    "- If we look at the age groups, we can't conclude that any specific age group accepts offers more than others."
   ]
  },
  {
   "cell_type": "markdown",
   "id": "bad4500c-2274-41d7-bf46-a49417c362a4",
   "metadata": {},
   "source": [
    "#### What is the average number of days since the last purchase for customers who are more likely to accept an offer?"
   ]
  },
  {
   "attachments": {
    "fad14b94-460c-4099-af12-66b5b00509d7.png": {
     "image/png": "[encoded data removed]"
    }
   },
   "cell_type": "markdown",
   "id": "bff0728e-14bb-43ff-896b-df940761c836",
   "metadata": {},
   "source": [
    "![image.png](attachment:fad14b94-460c-4099-af12-66b5b00509d7.png)"
   ]
  },
  {
   "cell_type": "markdown",
   "id": "295dd123-e8d8-4b51-9dcb-8f95ddcac222",
   "metadata": {},
   "source": [
    "- For customers who accepted **three or fewer** offers in previous campaigns, the average number of days since their last purchase is **lower** for those who accepted the last offer than for those who didn't.  \n",
    "- However, for customers who accepted **four** offers, the average number of days since their last purchase is **higher** for those who accepted the last offer than for those who didn't.  \n",
    "- **Recommendation**: In the next campaign, target:  \n",
    "  - Customers who accepted **fewer than three** offers and made their last purchase **within the last 40 days**.  \n",
    "  - Customers who accepted **four** offers and made their last purchase **more than 30 days ago**."
   ]
  },
  {
   "cell_type": "markdown",
   "id": "0d46a788-be9b-46c8-8dd5-c6174f4e6ece",
   "metadata": {},
   "source": [
    "#### Are customers with higher incomes more likely to accept an offer?"
   ]
  },
  {
   "attachments": {
    "e584f6ce-5a76-47eb-ba0b-fd3233632bf4.png": {
     "image/png": "[encoded data removed]"
    }
   },
   "cell_type": "markdown",
   "id": "f7601c58-07d3-4c66-a9bc-1638bf6f3040",
   "metadata": {},
   "source": [
    "![image.png](attachment:e584f6ce-5a76-47eb-ba0b-fd3233632bf4.png)"
   ]
  },
  {
   "cell_type": "markdown",
   "id": "dd278c3c-992a-4e28-bb3e-898508a49f1e",
   "metadata": {},
   "source": [
    "- The average income for all customers is **52.22K**.  \n",
    "- For customers who accepted the last offer, the average income is **60.19K**, while for those who didn't, it is **50.82K**.  \n",
    "- This indicates that customers who accepted the last offer tend to have a **higher average income** than those who didn't."
   ]
  },
  {
   "cell_type": "markdown",
   "id": "afc8f741-4a74-425e-a196-9860b6b08ee8",
   "metadata": {},
   "source": [
    "#### Are customers who spend more money on fruits more likely to accept an offer?"
   ]
  },
  {
   "cell_type": "code",
   "execution_count": null,
   "id": "c3bbe998-5265-4c56-ae80-7f60c1615d1a",
   "metadata": {},
   "outputs": [],
   "source": []
  },
  {
   "cell_type": "code",
   "execution_count": null,
   "id": "18413dee-60c1-49a6-b599-7aed4721b776",
   "metadata": {},
   "outputs": [],
   "source": []
  },
  {
   "cell_type": "code",
   "execution_count": null,
   "id": "744bd33a-ee4d-48e1-992d-f923d69a95b3",
   "metadata": {},
   "outputs": [],
   "source": []
  },
  {
   "cell_type": "code",
   "execution_count": null,
   "id": "dc746827-aff9-4b1c-a959-72e07cf1e419",
   "metadata": {},
   "outputs": [],
   "source": []
  },
  {
   "cell_type": "markdown",
   "id": "739dc34d-d111-44ee-a4d2-dbb7ef848779",
   "metadata": {},
   "source": [
    "#### Are customers who spend more money on meat products more likely to accept an offer?"
   ]
  },
  {
   "cell_type": "code",
   "execution_count": null,
   "id": "8cfa0113-a09a-4bce-8ebc-c531f9b33a59",
   "metadata": {},
   "outputs": [],
   "source": []
  },
  {
   "cell_type": "code",
   "execution_count": null,
   "id": "0b475cc7-68b5-49d4-b2f9-862408e60dab",
   "metadata": {},
   "outputs": [],
   "source": []
  },
  {
   "cell_type": "markdown",
   "id": "5ff210d2-8f2d-4f8d-90aa-7763087a0188",
   "metadata": {},
   "source": [
    "#### Are customers who spend more money on fish products more likely to accept an offer?"
   ]
  },
  {
   "cell_type": "code",
   "execution_count": null,
   "id": "24fea954-b8a0-4dff-9629-d0debf5625db",
   "metadata": {},
   "outputs": [],
   "source": []
  },
  {
   "cell_type": "code",
   "execution_count": null,
   "id": "b134b7e1-c258-4f3c-9e3b-48d99b4801cc",
   "metadata": {},
   "outputs": [],
   "source": []
  },
  {
   "cell_type": "markdown",
   "id": "41012267-87f2-43d0-b233-14857397cb7c",
   "metadata": {},
   "source": [
    "#### Are customers who spend more money on sweet products more likely to accept an offer?"
   ]
  },
  {
   "cell_type": "code",
   "execution_count": null,
   "id": "c80e90e6-dcaf-430d-a473-63b0ae852b89",
   "metadata": {},
   "outputs": [],
   "source": []
  },
  {
   "cell_type": "code",
   "execution_count": null,
   "id": "5647c048-7d69-4434-b910-9024174d7b13",
   "metadata": {},
   "outputs": [],
   "source": []
  },
  {
   "cell_type": "markdown",
   "id": "622a2eab-f683-4f3d-bf9c-b5d86b14a91a",
   "metadata": {},
   "source": [
    "#### Are customers who have a higher number of website visits and online purchases in the last month more likely to accept an offer?"
   ]
  },
  {
   "cell_type": "code",
   "execution_count": null,
   "id": "26e917b2-9e9d-4622-9cf7-bb03b7645504",
   "metadata": {},
   "outputs": [],
   "source": []
  },
  {
   "cell_type": "code",
   "execution_count": null,
   "id": "48121afd-fa80-4325-bf75-c4cbc094b29e",
   "metadata": {},
   "outputs": [],
   "source": []
  },
  {
   "cell_type": "markdown",
   "id": "88cd2339-a243-4000-b48b-c6bf3c34a8fa",
   "metadata": {},
   "source": [
    "#### Are customers who have made more purchases in stores and through catalogs more likely to accept an offer?"
   ]
  },
  {
   "cell_type": "code",
   "execution_count": null,
   "id": "04d84944-9ad7-465c-8be9-b3d885dd509f",
   "metadata": {},
   "outputs": [],
   "source": []
  },
  {
   "cell_type": "code",
   "execution_count": null,
   "id": "5f5cbc05-0690-425e-b8ae-263efb657f04",
   "metadata": {},
   "outputs": [],
   "source": []
  },
  {
   "cell_type": "markdown",
   "id": "5077aca3-acf8-43b7-8f51-b9bd4d10f087",
   "metadata": {},
   "source": [
    "#### Are customers who frequently use discounts for purchases more likely to accept an offer?"
   ]
  },
  {
   "cell_type": "code",
   "execution_count": null,
   "id": "15fc58e6-f279-4e98-802d-11a210c9478b",
   "metadata": {},
   "outputs": [],
   "source": []
  },
  {
   "cell_type": "code",
   "execution_count": null,
   "id": "f4eb1b92-05ca-4ecf-a14e-4a9459aa5548",
   "metadata": {},
   "outputs": [],
   "source": []
  },
  {
   "cell_type": "code",
   "execution_count": null,
   "id": "eb54fc8e-239d-4bde-a31c-696e9db75da3",
   "metadata": {},
   "outputs": [],
   "source": []
  },
  {
   "cell_type": "code",
   "execution_count": null,
   "id": "fa537362-46a1-4f7d-87ec-38076cb2e72c",
   "metadata": {},
   "outputs": [],
   "source": []
  },
  {
   "cell_type": "code",
   "execution_count": null,
   "id": "2e4dbc79-a860-4bad-8a43-58ba35d8090f",
   "metadata": {},
   "outputs": [],
   "source": []
  },
  {
   "cell_type": "code",
   "execution_count": null,
   "id": "4e02c87f-409d-421a-bb6e-b14a2e617d1b",
   "metadata": {},
   "outputs": [],
   "source": []
  }
 ],
 "metadata": {
  "kernelspec": {
   "display_name": "Python 3 (ipykernel)",
   "language": "python",
   "name": "python3"
  },
  "language_info": {
   "codemirror_mode": {
    "name": "ipython",
    "version": 3
   },
   "file_extension": ".py",
   "mimetype": "text/x-python",
   "name": "python",
   "nbconvert_exporter": "python",
   "pygments_lexer": "ipython3",
   "version": "3.12.7"
  }
 },
 "nbformat": 4,
 "nbformat_minor": 5
}
