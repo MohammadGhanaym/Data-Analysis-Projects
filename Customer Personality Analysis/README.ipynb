{
 "cells": [
  {
   "cell_type": "markdown",
   "id": "99eec6ce-b2eb-40c4-b161-8707f9699bb9",
   "metadata": {},
   "source": [
    "## Overview (In Progress)\n",
    "Customer Personality Analysis is a detailed analysis of a company’s ideal customers. It helps businesses better understand their customers and makes it easier for them to modify products according to the specific needs, behaviors, and concerns of different types of customers.\n",
    "\n",
    "By leveraging customer personality analysis, businesses can tailor their products based on target customer segments. Instead of marketing a new product to every customer in the database, companies can analyze which customer segment is most likely to buy the product and focus their marketing efforts accordingly.\n",
    "\n",
    "## Questions to Answer\n",
    "1. Does the education level affect the number of accepted offers?  \n",
    "2. Does marital status affect the number of accepted offers?  \n",
    "3. Are customers with dependents more likely to accept an offer?  \n",
    "4. Which age group is more likely to accept an offer?  \n",
    "5. Are customers with higher incomes more likely to accept an offer?  \n",
    "6. Are customers who spend more money on fruits more likely to accept an offer?  \n",
    "7. Are customers who spend more money on meat products more likely to accept an offer?  \n",
    "8. Are customers who spend more money on fish products more likely to accept an offer?  \n",
    "9. Are customers who spend more money on sweet products more likely to accept an offer?  \n",
    "10. Are customers who have a higher number of website visits and online purchases in the last month more likely to accept an offer?  \n",
    "11. Are customers who have made more purchases in stores and through catalogs more likely to accept an offer?  \n",
    "12. Are customers who frequently use discounts for purchases more likely to accept an offer?  \n",
    "    \n",
    "## Data Gathering\n",
    "In this project, I will use a dataset downloaded from [Kaggle](https://www.kaggle.com/datasets/imakash3011/customer-personality-analysis).  \n",
    "The dataset consists of **29 columns** and **2,240 rows**.\n",
    "\n",
    "> According to the information in this [link](https://github.com/nailson/ifood-data-business-analyst-test/tree/master), this dataset is used for hiring Data Analysts for the iFood Brain team. It was last updated on **February 19, 2020**.\n",
    "\n",
    "## Columns Description\n",
    "\n",
    "### Customer Information\n",
    "- **ID**: Customer's unique identifier  \n",
    "- **Year_Birth**: Customer's birth year  \n",
    "- **Education**: Customer's education level  \n",
    "- **Marital_Status**: Customer's marital status  \n",
    "- **Income**: Customer's yearly household income  \n",
    "- **Kidhome**: Number of children in the customer's household  \n",
    "- **Teenhome**: Number of teenagers in the customer's household  \n",
    "- **Dt_Customer**: Date of customer's enrollment with the company  \n",
    "- **Recency**: Number of days since the customer's last purchase  \n",
    "- **Complain**: `1` if the customer complained in the last 2 years, `0` otherwise  \n",
    "\n",
    "### Spending Behavior\n",
    "- **MntWines**: Amount spent on wine in the last 2 years  \n",
    "- **MntFruits**: Amount spent on fruits in the last 2 years  \n",
    "- **MntMeatProducts**: Amount spent on meat in the last 2 years  \n",
    "- **MntFishProducts**: Amount spent on fish in the last 2 years  \n",
    "- **MntSweetProducts**: Amount spent on sweets in the last 2 years  \n",
    "- **MntGoldProds**: Amount spent on gold in the last 2 years  \n",
    "\n",
    "### Purchase Behavior\n",
    "- **NumDealsPurchases**: Number of purchases made with a discount  \n",
    "- **NumWebPurchases**: Number of purchases made through the company’s website  \n",
    "- **NumCatalogPurchases**: Number of purchases made using a catalog  \n",
    "- **NumStorePurchases**: Number of purchases made directly in stores  \n",
    "- **NumWebVisitsMonth**: Number of visits to the company’s website in the last month  \n",
    "\n",
    "### Campaign Response\n",
    "- **AcceptedCmp1**: `1` if the customer accepted the offer in the 1st campaign, `0` otherwise  \n",
    "- **AcceptedCmp2**: `1` if the customer accepted the offer in the 2nd campaign, `0` otherwise  \n",
    "- **AcceptedCmp3**: `1` if the customer accepted the offer in the 3rd campaign, `0` otherwise  \n",
    "- **AcceptedCmp4**: `1` if the customer accepted the offer in the 4th campaign, `0` otherwise  \n",
    "- **AcceptedCmp5**: `1` if the customer accepted the offer in the 5th campaign, `0` otherwise  \n",
    "- **Response**: `1` if the customer accepted the offer in the last campaign, `0` otherwise  \n"
   ]
  },
  {
   "cell_type": "markdown",
   "id": "df31a6e7-07ea-412b-956f-03993d38d710",
   "metadata": {},
   "source": [
    "## Data Assessing\n",
    "\n",
    "- The **`Income`** column contains **13 null values**.  \n",
    "- The **`Dt_Customer`** column needs to be converted to the **Date** type.  \n",
    "- **Unnecessary columns** for analysis: `Z_costContact`, `Z_revenue`.  "
   ]
  },
  {
   "cell_type": "markdown",
   "id": "8d5b90a9-ca3f-4fc0-8c19-6a075d713131",
   "metadata": {},
   "source": [
    "## Data Cleaning"
   ]
  },
  {
   "cell_type": "markdown",
   "id": "66ec5994-db05-4046-92c2-bdbaf94e4166",
   "metadata": {},
   "source": [
    "\n",
    "1. **Drop rows with missing values** in the **`Income`** column.  \n",
    "   - Since there are only **13 null values**, which represent a very small proportion of the dataset, removing them is unlikely to significantly affect the analysis results.  \n",
    "\n",
    "2. **Convert the data type** of the **`Dt_Customer`** column to **Date** type.  \n",
    "   - When I tried to change the type directly, I encountered an error because the data follows the **day-month-year** format. To resolve this, I converted it using the **Brazilian locale**, as this dataset is related to a food delivery app in Brazil, and it worked.  \n",
    "\n",
    "3. **Drop unnecessary columns** for analysis: `Z_costContact`, `Z_revenue`.  \n",
    "\n",
    "4. **Create a new column** named `AcceptedCmp`, which represents the number of offers the customer has accepted, excluding the last campaign.\n",
    "5. **Create a new column** named `Customer Age` to represent the customer's age.  \n",
    "   - Since the data was last updated in 2020, I calculated the customer's age by subtracting their year of birth from 2020.\n",
    "   - After creating the column I found 3 customers with ages of more than 100 so, I deleted those values.\n",
    "\n",
    "6. **Create a new column** named `Age Group` that categorizes age into three groups: `24-44`, `45-65`, and `65 and Over`.\n",
    "\n",
    "7. There were duplicate rows, so I removed them.\n",
    "\n",
    "8. The `Marital_Status` column has some unusual values, such as `YOLO` and `Absurd`.  \n",
    "\n",
    "   - There are only **two rows** with the value `YOLO`, and they contain identical information except for the `ID`. Therefore, I will drop them.  \n",
    "   - There are also **two rows** with the value `Absurd`. Since I am unsure which category they belong to, I will drop them.  \n",
    "   - There are **inconsistent values** such as `Alone` and `Single`, which have the same meaning. To maintain consistency, I will replace `Alone` with `Single`.\n",
    "   - Now, we only have Single, Together, Married, Divorced, and Widow.\n",
    "    \n",
    "8. Create a new column called `Dependents` that represents the total number of dependents (kids + teenagers)."
   ]
  },
  {
   "cell_type": "markdown",
   "id": "5b0b41c5-e2d9-4344-b0cc-156f0ae109a9",
   "metadata": {},
   "source": [
    "## Exploratory Data Analysis"
   ]
  },
  {
   "cell_type": "markdown",
   "id": "291215c6-b9c9-42d0-ab95-ff69cdd733b8",
   "metadata": {},
   "source": [
    "#### Does the education level affect the number of accepted offers?"
   ]
  },
  {
   "cell_type": "code",
   "execution_count": null,
   "id": "a0ff2f04-f4b4-4786-89c4-0417ef0c9528",
   "metadata": {},
   "outputs": [],
   "source": []
  },
  {
   "cell_type": "code",
   "execution_count": null,
   "id": "d0af10dd-0596-48d4-acb2-0ba202ba9360",
   "metadata": {},
   "outputs": [],
   "source": []
  },
  {
   "cell_type": "markdown",
   "id": "1303fba1-167d-449f-98b2-4921bcc78d08",
   "metadata": {},
   "source": [
    "#### Does marital status affect the number of accepted offers?"
   ]
  },
  {
   "cell_type": "code",
   "execution_count": null,
   "id": "15ca8501-978a-4b01-8400-f725020f9feb",
   "metadata": {},
   "outputs": [],
   "source": []
  },
  {
   "cell_type": "code",
   "execution_count": null,
   "id": "43d039a9-967b-4ee8-b7ee-1d664790816f",
   "metadata": {},
   "outputs": [],
   "source": []
  },
  {
   "cell_type": "markdown",
   "id": "0fc95742-1c8a-4e43-9e47-ddf217a8f7a3",
   "metadata": {},
   "source": [
    "#### Are customers with dependents more likely to accept an offer?"
   ]
  },
  {
   "cell_type": "code",
   "execution_count": null,
   "id": "6b69740a-28d3-4803-a6b5-75b1f750c352",
   "metadata": {},
   "outputs": [],
   "source": []
  },
  {
   "cell_type": "code",
   "execution_count": null,
   "id": "2dcb7ae7-00a6-45ef-b137-61f72e3a77d1",
   "metadata": {},
   "outputs": [],
   "source": []
  },
  {
   "cell_type": "code",
   "execution_count": null,
   "id": "55fa614f-ea9e-46c2-a553-e47d5e8e8299",
   "metadata": {},
   "outputs": [],
   "source": []
  },
  {
   "cell_type": "code",
   "execution_count": null,
   "id": "45a297d5-aa6b-4d98-a76c-15cee7f36a8b",
   "metadata": {},
   "outputs": [],
   "source": []
  },
  {
   "cell_type": "markdown",
   "id": "2c596118-3812-4689-bd36-3b4c2736b024",
   "metadata": {},
   "source": [
    "#### Which age group is more likely to accept an offer?"
   ]
  },
  {
   "cell_type": "code",
   "execution_count": null,
   "id": "210ee63b-7342-4f69-9e1b-26d00aa7b470",
   "metadata": {},
   "outputs": [],
   "source": []
  },
  {
   "cell_type": "code",
   "execution_count": null,
   "id": "480997cf-74bc-4401-bad6-37398d1adc76",
   "metadata": {},
   "outputs": [],
   "source": []
  },
  {
   "cell_type": "markdown",
   "id": "0d46a788-be9b-46c8-8dd5-c6174f4e6ece",
   "metadata": {},
   "source": [
    "#### Are customers with higher incomes more likely to accept an offer?"
   ]
  },
  {
   "cell_type": "code",
   "execution_count": null,
   "id": "c3bbe998-5265-4c56-ae80-7f60c1615d1a",
   "metadata": {},
   "outputs": [],
   "source": []
  },
  {
   "cell_type": "code",
   "execution_count": null,
   "id": "18413dee-60c1-49a6-b599-7aed4721b776",
   "metadata": {},
   "outputs": [],
   "source": []
  },
  {
   "cell_type": "markdown",
   "id": "afc8f741-4a74-425e-a196-9860b6b08ee8",
   "metadata": {},
   "source": [
    "#### Are customers who spend more money on fruits more likely to accept an offer?"
   ]
  },
  {
   "cell_type": "code",
   "execution_count": null,
   "id": "744bd33a-ee4d-48e1-992d-f923d69a95b3",
   "metadata": {},
   "outputs": [],
   "source": []
  },
  {
   "cell_type": "code",
   "execution_count": null,
   "id": "dc746827-aff9-4b1c-a959-72e07cf1e419",
   "metadata": {},
   "outputs": [],
   "source": []
  },
  {
   "cell_type": "markdown",
   "id": "739dc34d-d111-44ee-a4d2-dbb7ef848779",
   "metadata": {},
   "source": [
    "#### Are customers who spend more money on meat products more likely to accept an offer?"
   ]
  },
  {
   "cell_type": "code",
   "execution_count": null,
   "id": "8cfa0113-a09a-4bce-8ebc-c531f9b33a59",
   "metadata": {},
   "outputs": [],
   "source": []
  },
  {
   "cell_type": "code",
   "execution_count": null,
   "id": "0b475cc7-68b5-49d4-b2f9-862408e60dab",
   "metadata": {},
   "outputs": [],
   "source": []
  },
  {
   "cell_type": "markdown",
   "id": "5ff210d2-8f2d-4f8d-90aa-7763087a0188",
   "metadata": {},
   "source": [
    "#### Are customers who spend more money on fish products more likely to accept an offer?"
   ]
  },
  {
   "cell_type": "code",
   "execution_count": null,
   "id": "24fea954-b8a0-4dff-9629-d0debf5625db",
   "metadata": {},
   "outputs": [],
   "source": []
  },
  {
   "cell_type": "code",
   "execution_count": null,
   "id": "b134b7e1-c258-4f3c-9e3b-48d99b4801cc",
   "metadata": {},
   "outputs": [],
   "source": []
  },
  {
   "cell_type": "markdown",
   "id": "41012267-87f2-43d0-b233-14857397cb7c",
   "metadata": {},
   "source": [
    "#### Are customers who spend more money on sweet products more likely to accept an offer?"
   ]
  },
  {
   "cell_type": "code",
   "execution_count": null,
   "id": "c80e90e6-dcaf-430d-a473-63b0ae852b89",
   "metadata": {},
   "outputs": [],
   "source": []
  },
  {
   "cell_type": "code",
   "execution_count": null,
   "id": "5647c048-7d69-4434-b910-9024174d7b13",
   "metadata": {},
   "outputs": [],
   "source": []
  },
  {
   "cell_type": "markdown",
   "id": "622a2eab-f683-4f3d-bf9c-b5d86b14a91a",
   "metadata": {},
   "source": [
    "#### Are customers who have a higher number of website visits and online purchases in the last month more likely to accept an offer?"
   ]
  },
  {
   "cell_type": "code",
   "execution_count": null,
   "id": "26e917b2-9e9d-4622-9cf7-bb03b7645504",
   "metadata": {},
   "outputs": [],
   "source": []
  },
  {
   "cell_type": "code",
   "execution_count": null,
   "id": "48121afd-fa80-4325-bf75-c4cbc094b29e",
   "metadata": {},
   "outputs": [],
   "source": []
  },
  {
   "cell_type": "markdown",
   "id": "88cd2339-a243-4000-b48b-c6bf3c34a8fa",
   "metadata": {},
   "source": [
    "#### Are customers who have made more purchases in stores and through catalogs more likely to accept an offer?"
   ]
  },
  {
   "cell_type": "code",
   "execution_count": null,
   "id": "04d84944-9ad7-465c-8be9-b3d885dd509f",
   "metadata": {},
   "outputs": [],
   "source": []
  },
  {
   "cell_type": "code",
   "execution_count": null,
   "id": "5f5cbc05-0690-425e-b8ae-263efb657f04",
   "metadata": {},
   "outputs": [],
   "source": []
  },
  {
   "cell_type": "markdown",
   "id": "5077aca3-acf8-43b7-8f51-b9bd4d10f087",
   "metadata": {},
   "source": [
    "#### Are customers who frequently use discounts for purchases more likely to accept an offer?"
   ]
  },
  {
   "cell_type": "code",
   "execution_count": null,
   "id": "15fc58e6-f279-4e98-802d-11a210c9478b",
   "metadata": {},
   "outputs": [],
   "source": []
  },
  {
   "cell_type": "code",
   "execution_count": null,
   "id": "f4eb1b92-05ca-4ecf-a14e-4a9459aa5548",
   "metadata": {},
   "outputs": [],
   "source": []
  },
  {
   "cell_type": "code",
   "execution_count": null,
   "id": "eb54fc8e-239d-4bde-a31c-696e9db75da3",
   "metadata": {},
   "outputs": [],
   "source": []
  },
  {
   "cell_type": "code",
   "execution_count": null,
   "id": "fa537362-46a1-4f7d-87ec-38076cb2e72c",
   "metadata": {},
   "outputs": [],
   "source": []
  },
  {
   "cell_type": "code",
   "execution_count": null,
   "id": "2e4dbc79-a860-4bad-8a43-58ba35d8090f",
   "metadata": {},
   "outputs": [],
   "source": []
  },
  {
   "cell_type": "code",
   "execution_count": null,
   "id": "4e02c87f-409d-421a-bb6e-b14a2e617d1b",
   "metadata": {},
   "outputs": [],
   "source": []
  }
 ],
 "metadata": {
  "kernelspec": {
   "display_name": "Python 3 (ipykernel)",
   "language": "python",
   "name": "python3"
  },
  "language_info": {
   "codemirror_mode": {
    "name": "ipython",
    "version": 3
   },
   "file_extension": ".py",
   "mimetype": "text/x-python",
   "name": "python",
   "nbconvert_exporter": "python",
   "pygments_lexer": "ipython3",
   "version": "3.12.7"
  }
 },
 "nbformat": 4,
 "nbformat_minor": 5
}
