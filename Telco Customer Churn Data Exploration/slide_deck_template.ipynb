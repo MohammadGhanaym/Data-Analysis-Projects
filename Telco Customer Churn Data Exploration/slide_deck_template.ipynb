{
 "cells": [
  {
   "cell_type": "markdown",
   "metadata": {
    "slideshow": {
     "slide_type": "slide"
    }
   },
   "source": [
    "# Telco Customer Churn Data Explanation"
   ]
  },
  {
   "cell_type": "markdown",
   "metadata": {
    "slideshow": {
     "slide_type": "slide"
    }
   },
   "source": [
    "## Investigation Overview\n",
    "\n",
    "In our investigation, we try to find different relationships between the Churn column and other columns. We want to know the characteristics of customers that leave the company to find solutions to make them change their minds.\n",
    "\n",
    "## Dataset Overview\n",
    "\n",
    "This data contains 7043 rows (customers) and 21 columns (features). \n",
    "\n",
    "The data set includes information about:\n",
    "- Customers who left within the last month – the column is called Churn\n",
    "- Services that each customer has signed up for – phone, multiple lines, internet, online security, online backup, device protection, tech support, and streaming TV and movies\n",
    "- Customer account information – how long they’ve been a customer, contract, payment method, paperless billing, monthly charges, and total charges\n",
    "- Demographic info about customers – gender, age range, and if they have partners and dependents"
   ]
  },
  {
   "cell_type": "code",
   "execution_count": 1,
   "metadata": {
    "ExecuteTime": {
     "end_time": "2021-11-01T19:15:21.529627Z",
     "start_time": "2021-11-01T19:14:58.980573Z"
    },
    "slideshow": {
     "slide_type": "skip"
    }
   },
   "outputs": [],
   "source": [
    "# import all packages and set plots to be embedded inline\n",
    "import numpy as np\n",
    "import pandas as pd\n",
    "import matplotlib.pyplot as plt\n",
    "import seaborn as sb\n",
    "\n",
    "%matplotlib inline\n",
    "\n",
    "# suppress warnings from final output\n",
    "import warnings\n",
    "warnings.simplefilter(\"ignore\")"
   ]
  },
  {
   "cell_type": "code",
   "execution_count": 2,
   "metadata": {
    "ExecuteTime": {
     "end_time": "2021-11-01T19:15:22.118825Z",
     "start_time": "2021-11-01T19:15:21.532614Z"
    },
    "slideshow": {
     "slide_type": "skip"
    }
   },
   "outputs": [],
   "source": [
    "# load in the dataset into a pandas dataframe\n",
    "df = pd.read_csv('WA_Fn-UseC_-Telco-Customer-Churn.csv')"
   ]
  },
  {
   "cell_type": "code",
   "execution_count": 3,
   "metadata": {
    "ExecuteTime": {
     "end_time": "2021-11-01T19:15:22.156620Z",
     "start_time": "2021-11-01T19:15:22.118825Z"
    },
    "slideshow": {
     "slide_type": "skip"
    }
   },
   "outputs": [],
   "source": [
    "# Change the data type format of the \"TotalCharges\" column.\n",
    "df['TotalCharges'] = pd.to_numeric(df.TotalCharges, errors = 'coerce')"
   ]
  },
  {
   "cell_type": "code",
   "execution_count": 4,
   "metadata": {
    "ExecuteTime": {
     "end_time": "2021-11-01T19:15:23.274959Z",
     "start_time": "2021-11-01T19:15:22.156620Z"
    },
    "slideshow": {
     "slide_type": "skip"
    }
   },
   "outputs": [
    {
     "data": {
      "text/plain": [
       "0"
      ]
     },
     "execution_count": 4,
     "metadata": {},
     "output_type": "execute_result"
    }
   ],
   "source": [
    "# drop the missing values\n",
    "df.dropna(inplace=True)\n",
    "df.isnull().sum().sum()"
   ]
  },
  {
   "cell_type": "code",
   "execution_count": 5,
   "metadata": {
    "ExecuteTime": {
     "end_time": "2021-11-01T19:15:23.332822Z",
     "start_time": "2021-11-01T19:15:23.275566Z"
    },
    "slideshow": {
     "slide_type": "skip"
    }
   },
   "outputs": [
    {
     "data": {
      "text/plain": [
       "False"
      ]
     },
     "execution_count": 5,
     "metadata": {},
     "output_type": "execute_result"
    }
   ],
   "source": [
    "# drop customerID\n",
    "df.drop(columns = ['customerID'], inplace=True)\n",
    "'customerID' in df.columns"
   ]
  },
  {
   "cell_type": "code",
   "execution_count": 6,
   "metadata": {
    "ExecuteTime": {
     "end_time": "2021-11-01T19:15:23.872085Z",
     "start_time": "2021-11-01T19:15:23.332822Z"
    },
    "slideshow": {
     "slide_type": "skip"
    }
   },
   "outputs": [
    {
     "data": {
      "text/plain": [
       "22"
      ]
     },
     "execution_count": 6,
     "metadata": {},
     "output_type": "execute_result"
    }
   ],
   "source": [
    "# check if there are duplicate rows\n",
    "df.duplicated().sum()"
   ]
  },
  {
   "cell_type": "code",
   "execution_count": 7,
   "metadata": {
    "ExecuteTime": {
     "end_time": "2021-11-01T19:15:24.029402Z",
     "start_time": "2021-11-01T19:15:23.874247Z"
    },
    "slideshow": {
     "slide_type": "skip"
    }
   },
   "outputs": [
    {
     "data": {
      "text/plain": [
       "0"
      ]
     },
     "execution_count": 7,
     "metadata": {},
     "output_type": "execute_result"
    }
   ],
   "source": [
    "# drop duplicate rows\n",
    "df.drop_duplicates(inplace=True)\n",
    "df.duplicated().sum()"
   ]
  },
  {
   "cell_type": "code",
   "execution_count": 8,
   "metadata": {
    "ExecuteTime": {
     "end_time": "2021-11-01T19:15:24.140752Z",
     "start_time": "2021-11-01T19:15:24.029402Z"
    },
    "slideshow": {
     "slide_type": "skip"
    }
   },
   "outputs": [
    {
     "name": "stdout",
     "output_type": "stream",
     "text": [
      "<class 'pandas.core.frame.DataFrame'>\n",
      "Int64Index: 7010 entries, 0 to 7042\n",
      "Data columns (total 20 columns):\n",
      " #   Column            Non-Null Count  Dtype  \n",
      "---  ------            --------------  -----  \n",
      " 0   gender            7010 non-null   object \n",
      " 1   SeniorCitizen     7010 non-null   int64  \n",
      " 2   Partner           7010 non-null   object \n",
      " 3   Dependents        7010 non-null   object \n",
      " 4   tenure            7010 non-null   int64  \n",
      " 5   PhoneService      7010 non-null   object \n",
      " 6   MultipleLines     7010 non-null   object \n",
      " 7   InternetService   7010 non-null   object \n",
      " 8   OnlineSecurity    7010 non-null   object \n",
      " 9   OnlineBackup      7010 non-null   object \n",
      " 10  DeviceProtection  7010 non-null   object \n",
      " 11  TechSupport       7010 non-null   object \n",
      " 12  StreamingTV       7010 non-null   object \n",
      " 13  StreamingMovies   7010 non-null   object \n",
      " 14  Contract          7010 non-null   object \n",
      " 15  PaperlessBilling  7010 non-null   object \n",
      " 16  PaymentMethod     7010 non-null   object \n",
      " 17  MonthlyCharges    7010 non-null   float64\n",
      " 18  TotalCharges      7010 non-null   float64\n",
      " 19  Churn             7010 non-null   object \n",
      "dtypes: float64(2), int64(2), object(16)\n",
      "memory usage: 1.1+ MB\n"
     ]
    }
   ],
   "source": [
    "df.info()"
   ]
  },
  {
   "cell_type": "code",
   "execution_count": 9,
   "metadata": {
    "ExecuteTime": {
     "end_time": "2021-11-01T19:15:24.443446Z",
     "start_time": "2021-11-01T19:15:24.143749Z"
    },
    "slideshow": {
     "slide_type": "skip"
    }
   },
   "outputs": [
    {
     "data": {
      "text/html": [
       "<div>\n",
       "<style scoped>\n",
       "    .dataframe tbody tr th:only-of-type {\n",
       "        vertical-align: middle;\n",
       "    }\n",
       "\n",
       "    .dataframe tbody tr th {\n",
       "        vertical-align: top;\n",
       "    }\n",
       "\n",
       "    .dataframe thead th {\n",
       "        text-align: right;\n",
       "    }\n",
       "</style>\n",
       "<table border=\"1\" class=\"dataframe\">\n",
       "  <thead>\n",
       "    <tr style=\"text-align: right;\">\n",
       "      <th></th>\n",
       "      <th>gender</th>\n",
       "      <th>SeniorCitizen</th>\n",
       "      <th>Partner</th>\n",
       "      <th>Dependents</th>\n",
       "      <th>tenure</th>\n",
       "      <th>PhoneService</th>\n",
       "      <th>InternetService</th>\n",
       "      <th>TechSupport</th>\n",
       "      <th>Contract</th>\n",
       "      <th>PaymentMethod</th>\n",
       "      <th>MonthlyCharges</th>\n",
       "      <th>TotalCharges</th>\n",
       "      <th>Churn</th>\n",
       "    </tr>\n",
       "  </thead>\n",
       "  <tbody>\n",
       "    <tr>\n",
       "      <th>0</th>\n",
       "      <td>Female</td>\n",
       "      <td>0</td>\n",
       "      <td>Yes</td>\n",
       "      <td>No</td>\n",
       "      <td>1</td>\n",
       "      <td>No</td>\n",
       "      <td>DSL</td>\n",
       "      <td>No</td>\n",
       "      <td>Month-to-month</td>\n",
       "      <td>Electronic check</td>\n",
       "      <td>29.85</td>\n",
       "      <td>29.85</td>\n",
       "      <td>No</td>\n",
       "    </tr>\n",
       "    <tr>\n",
       "      <th>1</th>\n",
       "      <td>Male</td>\n",
       "      <td>0</td>\n",
       "      <td>No</td>\n",
       "      <td>No</td>\n",
       "      <td>34</td>\n",
       "      <td>Yes</td>\n",
       "      <td>DSL</td>\n",
       "      <td>No</td>\n",
       "      <td>One year</td>\n",
       "      <td>Mailed check</td>\n",
       "      <td>56.95</td>\n",
       "      <td>1889.50</td>\n",
       "      <td>No</td>\n",
       "    </tr>\n",
       "    <tr>\n",
       "      <th>2</th>\n",
       "      <td>Male</td>\n",
       "      <td>0</td>\n",
       "      <td>No</td>\n",
       "      <td>No</td>\n",
       "      <td>2</td>\n",
       "      <td>Yes</td>\n",
       "      <td>DSL</td>\n",
       "      <td>No</td>\n",
       "      <td>Month-to-month</td>\n",
       "      <td>Mailed check</td>\n",
       "      <td>53.85</td>\n",
       "      <td>108.15</td>\n",
       "      <td>Yes</td>\n",
       "    </tr>\n",
       "    <tr>\n",
       "      <th>3</th>\n",
       "      <td>Male</td>\n",
       "      <td>0</td>\n",
       "      <td>No</td>\n",
       "      <td>No</td>\n",
       "      <td>45</td>\n",
       "      <td>No</td>\n",
       "      <td>DSL</td>\n",
       "      <td>Yes</td>\n",
       "      <td>One year</td>\n",
       "      <td>Bank transfer (automatic)</td>\n",
       "      <td>42.30</td>\n",
       "      <td>1840.75</td>\n",
       "      <td>No</td>\n",
       "    </tr>\n",
       "    <tr>\n",
       "      <th>4</th>\n",
       "      <td>Female</td>\n",
       "      <td>0</td>\n",
       "      <td>No</td>\n",
       "      <td>No</td>\n",
       "      <td>2</td>\n",
       "      <td>Yes</td>\n",
       "      <td>Fiber optic</td>\n",
       "      <td>No</td>\n",
       "      <td>Month-to-month</td>\n",
       "      <td>Electronic check</td>\n",
       "      <td>70.70</td>\n",
       "      <td>151.65</td>\n",
       "      <td>Yes</td>\n",
       "    </tr>\n",
       "  </tbody>\n",
       "</table>\n",
       "</div>"
      ],
      "text/plain": [
       "   gender  SeniorCitizen Partner Dependents  tenure PhoneService  \\\n",
       "0  Female              0     Yes         No       1           No   \n",
       "1    Male              0      No         No      34          Yes   \n",
       "2    Male              0      No         No       2          Yes   \n",
       "3    Male              0      No         No      45           No   \n",
       "4  Female              0      No         No       2          Yes   \n",
       "\n",
       "  InternetService TechSupport        Contract              PaymentMethod  \\\n",
       "0             DSL          No  Month-to-month           Electronic check   \n",
       "1             DSL          No        One year               Mailed check   \n",
       "2             DSL          No  Month-to-month               Mailed check   \n",
       "3             DSL         Yes        One year  Bank transfer (automatic)   \n",
       "4     Fiber optic          No  Month-to-month           Electronic check   \n",
       "\n",
       "   MonthlyCharges  TotalCharges Churn  \n",
       "0           29.85         29.85    No  \n",
       "1           56.95       1889.50    No  \n",
       "2           53.85        108.15   Yes  \n",
       "3           42.30       1840.75    No  \n",
       "4           70.70        151.65   Yes  "
      ]
     },
     "execution_count": 9,
     "metadata": {},
     "output_type": "execute_result"
    }
   ],
   "source": [
    "data = df[['gender', 'SeniorCitizen', 'Partner', 'Dependents', 'tenure', 'PhoneService', 'InternetService', 'TechSupport',\n",
    "           'Contract', 'PaymentMethod', 'MonthlyCharges', 'TotalCharges', 'Churn']]\n",
    "data.head()"
   ]
  },
  {
   "cell_type": "code",
   "execution_count": 10,
   "metadata": {
    "ExecuteTime": {
     "end_time": "2021-11-01T19:15:24.501940Z",
     "start_time": "2021-11-01T19:15:24.446443Z"
    },
    "slideshow": {
     "slide_type": "skip"
    }
   },
   "outputs": [],
   "source": [
    "# function to plot the distribution of categorical variable \n",
    "# since the countplot function show the counts of observations in each categorical bin using bars.\n",
    "def countplot_ratio(x = None, data = None, hue = None, ax = None, order = None, autopct = None, color = None):\n",
    "    plt.figure(figsize=(10, 6))\n",
    "    # plot the variable\n",
    "    ax = sb.countplot(x = x, data = data, hue = hue, ax = ax, color = color, order = order)\n",
    "    # names of x labels\n",
    "    ax.set_xticklabels(ax.get_xticklabels())\n",
    "    # plot title\n",
    "    ax.set_title(x + \" Distribution\")\n",
    "    # total number of data which used to get the proportion\n",
    "    total = float(len(data))\n",
    "    # if autopct equal to True, It will show the proportions of the data\n",
    "    if autopct == True:\n",
    "        # for loop to iterate on the patches\n",
    "        for patch in ax.patches:\n",
    "            # get the height of the patch which represents the number of observations.\n",
    "            height = patch.get_height()\n",
    "            # Put text on each patch with the proportion of the observations\n",
    "            ax.text(patch.get_x()+patch.get_width()/2,height+4,'{:.2f}%'.format((height/total)*100),weight = 'bold',\n",
    "                fontsize = 12,ha = 'center')\n",
    "            \n",
    "base_color = sb.color_palette()[0]\n"
   ]
  },
  {
   "cell_type": "markdown",
   "metadata": {
    "slideshow": {
     "slide_type": "slide"
    }
   },
   "source": [
    "## Churn Distribution\n",
    "\n",
    "Data is imbalanced since customers who didn't leave in the last month represent 73.51%."
   ]
  },
  {
   "cell_type": "code",
   "execution_count": 11,
   "metadata": {
    "ExecuteTime": {
     "end_time": "2021-11-01T19:15:25.563391Z",
     "start_time": "2021-11-01T19:15:24.501940Z"
    },
    "slideshow": {
     "slide_type": "subslide"
    }
   },
   "outputs": [
    {
     "data": {
      "image/png": "[encoded data removed]",
      "text/plain": [
       "<Figure size 720x432 with 1 Axes>"
      ]
     },
     "metadata": {
      "needs_background": "light"
     },
     "output_type": "display_data"
    }
   ],
   "source": [
    "countplot_ratio(x = 'Churn', data=data, autopct=True, color = base_color)"
   ]
  },
  {
   "cell_type": "markdown",
   "metadata": {
    "collapsed": true,
    "slideshow": {
     "slide_type": "slide"
    }
   },
   "source": [
    "## SeniorCitizen Distribution by Churn\n",
    "\n",
    "- 64.01 % of customers are young and don't leave the company.\n",
    "- 19.71 % of customers are young and leave the company.\n",
    "- 9.50 % of customers are senior citizens and don't leave the company.\n",
    "- 6.78% of customers are senior citizens and leave the company.\n",
    "- More than half of the customers are young and don't leave the company.\n",
    "- We can't say most of the customers who don't leave the company are young. This is because the data is imbalanced since the number of young customers is greater than senior citizens. If the number of young customers and senior citizens is the same, It will be a fair comparison."
   ]
  },
  {
   "cell_type": "code",
   "execution_count": 12,
   "metadata": {
    "ExecuteTime": {
     "end_time": "2021-11-01T19:15:25.822841Z",
     "start_time": "2021-11-01T19:15:25.566388Z"
    },
    "slideshow": {
     "slide_type": "subslide"
    }
   },
   "outputs": [
    {
     "data": {
      "image/png": "[encoded data removed]",
      "text/plain": [
       "<Figure size 720x432 with 1 Axes>"
      ]
     },
     "metadata": {
      "needs_background": "light"
     },
     "output_type": "display_data"
    }
   ],
   "source": [
    "countplot_ratio(x = 'SeniorCitizen', data = data, hue = 'Churn', autopct=True)"
   ]
  },
  {
   "cell_type": "markdown",
   "metadata": {
    "slideshow": {
     "slide_type": "slide"
    }
   },
   "source": [
    "## Dependents Distribution by Churn\n",
    "\n",
    "- 48.22% of customers don't have dependents and don't leave the company.\n",
    "- 21.84% of customers don't have dependents and leave the company.\n",
    "- 25.29% of customers have dependents and don't leave the company.\n",
    "- 4.65% of customers have dependents and leave the company.\n",
    "- About half of the customers don't have dependents and don't leave the company. And this is because most of the customers are young, and young people usually don't have dependents."
   ]
  },
  {
   "cell_type": "code",
   "execution_count": 13,
   "metadata": {
    "ExecuteTime": {
     "end_time": "2021-11-01T19:15:26.095381Z",
     "start_time": "2021-11-01T19:15:25.822841Z"
    },
    "slideshow": {
     "slide_type": "subslide"
    }
   },
   "outputs": [
    {
     "data": {
      "image/png": "[encoded data removed]",
      "text/plain": [
       "<Figure size 720x432 with 1 Axes>"
      ]
     },
     "metadata": {
      "needs_background": "light"
     },
     "output_type": "display_data"
    }
   ],
   "source": [
    "countplot_ratio(x = 'Dependents', data = data, hue = 'Churn', autopct=True)"
   ]
  },
  {
   "cell_type": "markdown",
   "metadata": {
    "slideshow": {
     "slide_type": "slide"
    }
   },
   "source": [
    "## Distribution of tenure vs SeniorCitizen and Churn\n",
    "- Most young customers who leave the company don't stay more than 20 months with the company. It's the same for senior citizen customers.\n",
    "- Regardless of was the customer is a young or senior citizen, the customers who stayed a few months are more likely to leave the company. And the customers who stayed for more than 35 months are more likely to stay with the company."
   ]
  },
  {
   "cell_type": "code",
   "execution_count": 14,
   "metadata": {
    "ExecuteTime": {
     "end_time": "2021-11-01T19:15:28.269644Z",
     "start_time": "2021-11-01T19:15:26.095381Z"
    },
    "slideshow": {
     "slide_type": "subslide"
    }
   },
   "outputs": [
    {
     "data": {
      "image/png": "[encoded data removed]",
      "text/plain": [
       "<Figure size 1296x432 with 2 Axes>"
      ]
     },
     "metadata": {
      "needs_background": "light"
     },
     "output_type": "display_data"
    }
   ],
   "source": [
    "# Distribution of tenure vs SeniorCitizen and Churn\n",
    "plt.figure(figsize = [18, 6])\n",
    "plt.subplot(1, 2, 1)\n",
    "sb.violinplot(data = data, x = 'SeniorCitizen', y = 'tenure', hue = 'Churn')\n",
    "plt.ylabel('tenure', fontdict={'fontsize': 14})\n",
    "plt.xlabel('SeniorCitizen', fontdict={'fontsize': 14})\n",
    "plt.legend( loc='center')\n",
    "plt.title('Distribution of tenure vs SeniorCitizen and Churn', fontdict={'fontsize': 18})\n",
    "\n",
    "plt.subplot(1, 2, 2)\n",
    "sb.boxplot(data = data, x = 'SeniorCitizen', y = 'tenure', hue = 'Churn')\n",
    "plt.ylabel('tenure', fontdict={'fontsize': 14})\n",
    "plt.xlabel('SeniorCitizen', fontdict={'fontsize': 14})\n",
    "plt.legend(bbox_to_anchor=(1, 1), loc='best')\n",
    "plt.title('Distribution of tenure vs SeniorCitizen and Churn', fontdict={'fontsize': 18});"
   ]
  },
  {
   "cell_type": "markdown",
   "metadata": {
    "slideshow": {
     "slide_type": "slide"
    }
   },
   "source": [
    "## Distribution of tenure vs InternetService and Churn\n",
    "- The customers who stayed for about 45 months on average with the company and had an internet service provider of type fiber optic are more likely to stay with the company.\n",
    "- The customers who stayed for about 20 months on average with the company and had an internet service provider of type fiber optic are more likely to leave the company.\n",
    "\n",
    "- The customers who stayed for about 15 months on average with the company and had an internet service provider of type DSL are more likely to leave the company."
   ]
  },
  {
   "cell_type": "code",
   "execution_count": 15,
   "metadata": {
    "ExecuteTime": {
     "end_time": "2021-11-01T19:15:29.032441Z",
     "start_time": "2021-11-01T19:15:28.269644Z"
    },
    "slideshow": {
     "slide_type": "subslide"
    }
   },
   "outputs": [
    {
     "data": {
      "image/png": "[encoded data removed]",
      "text/plain": [
       "<Figure size 720x576 with 1 Axes>"
      ]
     },
     "metadata": {
      "needs_background": "light"
     },
     "output_type": "display_data"
    }
   ],
   "source": [
    "# Distribution of tenure vs InternetService and Churn\n",
    "plt.figure(figsize=(10, 8))\n",
    "sb.barplot(data = data, x = 'InternetService', y = 'tenure', hue = 'Churn')\n",
    "plt.ylabel('Avg. tenure', fontdict={'fontsize': 14})\n",
    "plt.xlabel('InternetService', fontdict={'fontsize': 14})\n",
    "plt.title('Distribution of tenure vs InternetService and Churn', fontdict={'fontsize': 18});"
   ]
  },
  {
   "cell_type": "code",
   "execution_count": null,
   "metadata": {
    "ExecuteTime": {
     "start_time": "2021-11-01T19:14:59.024Z"
    },
    "slideshow": {
     "slide_type": "skip"
    }
   },
   "outputs": [],
   "source": [
    "!jupyter nbconvert slide_deck_template.ipynb --to slides --no-input --post serve"
   ]
  }
 ],
 "metadata": {
  "celltoolbar": "Slideshow",
  "kernelspec": {
   "display_name": "Python 3",
   "language": "python",
   "name": "python3"
  },
  "language_info": {
   "codemirror_mode": {
    "name": "ipython",
    "version": 3
   },
   "file_extension": ".py",
   "mimetype": "text/x-python",
   "name": "python",
   "nbconvert_exporter": "python",
   "pygments_lexer": "ipython3",
   "version": "3.8.8"
  }
 },
 "nbformat": 4,
 "nbformat_minor": 2
}
