{
 "cells": [
  {
   "cell_type": "markdown",
   "id": "7d33e463-f029-4a1f-b292-5fff2a8c95e4",
   "metadata": {},
   "source": [
    "# **Overview**\n",
    "\n",
    "#### **Context**\n",
    "The growth of supermarkets in most populated cities is increasing, and market competition is also high. The dataset represents historical sales data from a supermarket company, recorded across three different branches over three months.\n",
    "\n",
    "#### **Stakeholder Request:**  \n",
    "\n",
    "We've been seeing variations in sales performance across our three branches. Some locations seem to perform better than others, and we’re unsure why. We want to understand what factors drive sales at each branch and identify opportunities to improve underperforming locations. Can you analyze the data and provide insights? We also want to look at the financial performance over the past three months.\n",
    "\n",
    "#### **Key Business Questions:**  \n",
    "1. Which branch generates the **highest and lowest revenue**, and why?  \n",
    "2. How do **product line sales** vary across branches?  \n",
    "3. Does **customer type (Members vs. Normal)** affect sales differently at each branch?  \n",
    "4. What are the **peak shopping hours** for each branch?\n",
    "5. What are the **peak shopping days of the week** for each branch?\n",
    "6. Are certain **payment methods** more popular at specific branches?  \n",
    "7. Do **customer satisfaction ratings** differ by branch, and do they correlate with revenue?\n",
    "8. What are the trends in revenue over the past 3 months?"
   ]
  },
  {
   "cell_type": "code",
   "execution_count": 13,
   "id": "5b8958a9-3392-44ff-b188-1298d297af55",
   "metadata": {},
   "outputs": [],
   "source": [
    "import pandas as pd\n",
    "import numpy as np\n",
    "import matplotlib.pyplot as plt\n",
    "import seaborn as sns\n",
    "\n",
    "plt.style.use('ggplot')  # Change style here\n"
   ]
  },
  {
   "cell_type": "markdown",
   "id": "4e0790c4-1348-40ff-b623-f0956f36f67a",
   "metadata": {},
   "source": [
    "# Data Gathering\n",
    "\n",
    "The dataset is available in Kaggle and you can download it from this link [here](https://www.kaggle.com/datasets/aungpyaeap/supermarket-sales). It consists of 17 columns and 1000 rows.\n",
    "\n",
    "#### **Attribute Information:**\n",
    "\n",
    "- **Invoice ID**: Computer-generated sales slip invoice identification number.  \n",
    "- **Branch**: Branch of the supercenter (3 branches are available, identified as A, B, and C).  \n",
    "- **City**: Location of the supercenters.  \n",
    "- **Customer Type**: Type of customers, recorded as:\n",
    "  - **Member**: Customers using a member card.  \n",
    "  - **Normal**: Customers without a member card.  \n",
    "- **Gender**: Gender of the customer.  \n",
    "- **Product Line**: General item categorization groups:\n",
    "  - Electronic accessories  \n",
    "  - Fashion accessories  \n",
    "  - Food and beverages  \n",
    "  - Health and beauty  \n",
    "  - Home and lifestyle  \n",
    "  - Sports and travel  \n",
    "- **Unit Price**: Price of each product in dollars ($).  \n",
    "- **Quantity**: Number of products purchased by the customer.  \n",
    "- **Tax**: 5% tax fee applied to customer purchases.  \n",
    "- **Total**: Total price including tax.  \n",
    "- **Date**: Date of purchase (Records available from January 2019 to March 2019).  \n",
    "- **Time**: Purchase time (Between 10 AM and 9 PM).  \n",
    "- **Payment**: Payment method used by the customer (Three methods available: Cash, Credit Card, and E-wallet).  \n",
    "- **COGS**: Cost of goods sold.  \n",
    "- **Gross Margin Percentage**: Gross margin percentage.  \n",
    "- **Gross Income**: Gross income.  \n",
    "- **Rating**: Customer satisfaction rating on their overall shopping experience (On a scale of 1 to 10).  "
   ]
  },
  {
   "cell_type": "code",
   "execution_count": 18,
   "id": "fe5cba2c-b814-4b02-8924-f4e4eb562b31",
   "metadata": {},
   "outputs": [],
   "source": [
    "df = pd.read_csv('./dataset/supermarket_sales - Sheet1.csv')"
   ]
  },
  {
   "cell_type": "markdown",
   "id": "e330e7c4-3556-4942-977c-63e0e2b3af17",
   "metadata": {},
   "source": [
    "# Data Assessing"
   ]
  },
  {
   "cell_type": "code",
   "execution_count": 20,
   "id": "ca85de7d-8d55-4444-ae58-9e3d652af2e9",
   "metadata": {},
   "outputs": [
    {
     "data": {
      "text/html": [
       "<div>\n",
       "<style scoped>\n",
       "    .dataframe tbody tr th:only-of-type {\n",
       "        vertical-align: middle;\n",
       "    }\n",
       "\n",
       "    .dataframe tbody tr th {\n",
       "        vertical-align: top;\n",
       "    }\n",
       "\n",
       "    .dataframe thead th {\n",
       "        text-align: right;\n",
       "    }\n",
       "</style>\n",
       "<table border=\"1\" class=\"dataframe\">\n",
       "  <thead>\n",
       "    <tr style=\"text-align: right;\">\n",
       "      <th></th>\n",
       "      <th>Invoice ID</th>\n",
       "      <th>Branch</th>\n",
       "      <th>City</th>\n",
       "      <th>Customer type</th>\n",
       "      <th>Gender</th>\n",
       "      <th>Product line</th>\n",
       "      <th>Unit price</th>\n",
       "      <th>Quantity</th>\n",
       "      <th>Tax 5%</th>\n",
       "      <th>Total</th>\n",
       "      <th>Date</th>\n",
       "      <th>Time</th>\n",
       "      <th>Payment</th>\n",
       "      <th>cogs</th>\n",
       "      <th>gross margin percentage</th>\n",
       "      <th>gross income</th>\n",
       "      <th>Rating</th>\n",
       "    </tr>\n",
       "  </thead>\n",
       "  <tbody>\n",
       "    <tr>\n",
       "      <th>0</th>\n",
       "      <td>750-67-8428</td>\n",
       "      <td>A</td>\n",
       "      <td>Yangon</td>\n",
       "      <td>Member</td>\n",
       "      <td>Female</td>\n",
       "      <td>Health and beauty</td>\n",
       "      <td>74.69</td>\n",
       "      <td>7</td>\n",
       "      <td>26.1415</td>\n",
       "      <td>548.9715</td>\n",
       "      <td>1/5/2019</td>\n",
       "      <td>13:08</td>\n",
       "      <td>Ewallet</td>\n",
       "      <td>522.83</td>\n",
       "      <td>4.761905</td>\n",
       "      <td>26.1415</td>\n",
       "      <td>9.1</td>\n",
       "    </tr>\n",
       "    <tr>\n",
       "      <th>1</th>\n",
       "      <td>226-31-3081</td>\n",
       "      <td>C</td>\n",
       "      <td>Naypyitaw</td>\n",
       "      <td>Normal</td>\n",
       "      <td>Female</td>\n",
       "      <td>Electronic accessories</td>\n",
       "      <td>15.28</td>\n",
       "      <td>5</td>\n",
       "      <td>3.8200</td>\n",
       "      <td>80.2200</td>\n",
       "      <td>3/8/2019</td>\n",
       "      <td>10:29</td>\n",
       "      <td>Cash</td>\n",
       "      <td>76.40</td>\n",
       "      <td>4.761905</td>\n",
       "      <td>3.8200</td>\n",
       "      <td>9.6</td>\n",
       "    </tr>\n",
       "    <tr>\n",
       "      <th>2</th>\n",
       "      <td>631-41-3108</td>\n",
       "      <td>A</td>\n",
       "      <td>Yangon</td>\n",
       "      <td>Normal</td>\n",
       "      <td>Male</td>\n",
       "      <td>Home and lifestyle</td>\n",
       "      <td>46.33</td>\n",
       "      <td>7</td>\n",
       "      <td>16.2155</td>\n",
       "      <td>340.5255</td>\n",
       "      <td>3/3/2019</td>\n",
       "      <td>13:23</td>\n",
       "      <td>Credit card</td>\n",
       "      <td>324.31</td>\n",
       "      <td>4.761905</td>\n",
       "      <td>16.2155</td>\n",
       "      <td>7.4</td>\n",
       "    </tr>\n",
       "    <tr>\n",
       "      <th>3</th>\n",
       "      <td>123-19-1176</td>\n",
       "      <td>A</td>\n",
       "      <td>Yangon</td>\n",
       "      <td>Member</td>\n",
       "      <td>Male</td>\n",
       "      <td>Health and beauty</td>\n",
       "      <td>58.22</td>\n",
       "      <td>8</td>\n",
       "      <td>23.2880</td>\n",
       "      <td>489.0480</td>\n",
       "      <td>1/27/2019</td>\n",
       "      <td>20:33</td>\n",
       "      <td>Ewallet</td>\n",
       "      <td>465.76</td>\n",
       "      <td>4.761905</td>\n",
       "      <td>23.2880</td>\n",
       "      <td>8.4</td>\n",
       "    </tr>\n",
       "    <tr>\n",
       "      <th>4</th>\n",
       "      <td>373-73-7910</td>\n",
       "      <td>A</td>\n",
       "      <td>Yangon</td>\n",
       "      <td>Normal</td>\n",
       "      <td>Male</td>\n",
       "      <td>Sports and travel</td>\n",
       "      <td>86.31</td>\n",
       "      <td>7</td>\n",
       "      <td>30.2085</td>\n",
       "      <td>634.3785</td>\n",
       "      <td>2/8/2019</td>\n",
       "      <td>10:37</td>\n",
       "      <td>Ewallet</td>\n",
       "      <td>604.17</td>\n",
       "      <td>4.761905</td>\n",
       "      <td>30.2085</td>\n",
       "      <td>5.3</td>\n",
       "    </tr>\n",
       "  </tbody>\n",
       "</table>\n",
       "</div>"
      ],
      "text/plain": [
       "    Invoice ID Branch       City Customer type  Gender  \\\n",
       "0  750-67-8428      A     Yangon        Member  Female   \n",
       "1  226-31-3081      C  Naypyitaw        Normal  Female   \n",
       "2  631-41-3108      A     Yangon        Normal    Male   \n",
       "3  123-19-1176      A     Yangon        Member    Male   \n",
       "4  373-73-7910      A     Yangon        Normal    Male   \n",
       "\n",
       "             Product line  Unit price  Quantity   Tax 5%     Total       Date  \\\n",
       "0       Health and beauty       74.69         7  26.1415  548.9715   1/5/2019   \n",
       "1  Electronic accessories       15.28         5   3.8200   80.2200   3/8/2019   \n",
       "2      Home and lifestyle       46.33         7  16.2155  340.5255   3/3/2019   \n",
       "3       Health and beauty       58.22         8  23.2880  489.0480  1/27/2019   \n",
       "4       Sports and travel       86.31         7  30.2085  634.3785   2/8/2019   \n",
       "\n",
       "    Time      Payment    cogs  gross margin percentage  gross income  Rating  \n",
       "0  13:08      Ewallet  522.83                 4.761905       26.1415     9.1  \n",
       "1  10:29         Cash   76.40                 4.761905        3.8200     9.6  \n",
       "2  13:23  Credit card  324.31                 4.761905       16.2155     7.4  \n",
       "3  20:33      Ewallet  465.76                 4.761905       23.2880     8.4  \n",
       "4  10:37      Ewallet  604.17                 4.761905       30.2085     5.3  "
      ]
     },
     "execution_count": 20,
     "metadata": {},
     "output_type": "execute_result"
    }
   ],
   "source": [
    "df.head()"
   ]
  },
  {
   "cell_type": "code",
   "execution_count": 38,
   "id": "f297a3c0-7c82-4aaa-a9fd-911f067f0a74",
   "metadata": {},
   "outputs": [
    {
     "data": {
      "text/html": [
       "<div>\n",
       "<style scoped>\n",
       "    .dataframe tbody tr th:only-of-type {\n",
       "        vertical-align: middle;\n",
       "    }\n",
       "\n",
       "    .dataframe tbody tr th {\n",
       "        vertical-align: top;\n",
       "    }\n",
       "\n",
       "    .dataframe thead th {\n",
       "        text-align: right;\n",
       "    }\n",
       "</style>\n",
       "<table border=\"1\" class=\"dataframe\">\n",
       "  <thead>\n",
       "    <tr style=\"text-align: right;\">\n",
       "      <th></th>\n",
       "      <th>Invoice ID</th>\n",
       "      <th>Branch</th>\n",
       "      <th>City</th>\n",
       "      <th>Customer type</th>\n",
       "      <th>Gender</th>\n",
       "      <th>Product line</th>\n",
       "      <th>Unit price</th>\n",
       "      <th>Quantity</th>\n",
       "      <th>Tax 5%</th>\n",
       "      <th>Total</th>\n",
       "      <th>Date</th>\n",
       "      <th>Time</th>\n",
       "      <th>Payment</th>\n",
       "      <th>cogs</th>\n",
       "      <th>gross margin percentage</th>\n",
       "      <th>gross income</th>\n",
       "      <th>Rating</th>\n",
       "    </tr>\n",
       "  </thead>\n",
       "  <tbody>\n",
       "    <tr>\n",
       "      <th>995</th>\n",
       "      <td>233-67-5758</td>\n",
       "      <td>C</td>\n",
       "      <td>Naypyitaw</td>\n",
       "      <td>Normal</td>\n",
       "      <td>Male</td>\n",
       "      <td>Health and beauty</td>\n",
       "      <td>40.35</td>\n",
       "      <td>1</td>\n",
       "      <td>2.0175</td>\n",
       "      <td>42.3675</td>\n",
       "      <td>1/29/2019</td>\n",
       "      <td>13:46</td>\n",
       "      <td>Ewallet</td>\n",
       "      <td>40.35</td>\n",
       "      <td>4.761905</td>\n",
       "      <td>2.0175</td>\n",
       "      <td>6.2</td>\n",
       "    </tr>\n",
       "    <tr>\n",
       "      <th>996</th>\n",
       "      <td>303-96-2227</td>\n",
       "      <td>B</td>\n",
       "      <td>Mandalay</td>\n",
       "      <td>Normal</td>\n",
       "      <td>Female</td>\n",
       "      <td>Home and lifestyle</td>\n",
       "      <td>97.38</td>\n",
       "      <td>10</td>\n",
       "      <td>48.6900</td>\n",
       "      <td>1022.4900</td>\n",
       "      <td>3/2/2019</td>\n",
       "      <td>17:16</td>\n",
       "      <td>Ewallet</td>\n",
       "      <td>973.80</td>\n",
       "      <td>4.761905</td>\n",
       "      <td>48.6900</td>\n",
       "      <td>4.4</td>\n",
       "    </tr>\n",
       "    <tr>\n",
       "      <th>997</th>\n",
       "      <td>727-02-1313</td>\n",
       "      <td>A</td>\n",
       "      <td>Yangon</td>\n",
       "      <td>Member</td>\n",
       "      <td>Male</td>\n",
       "      <td>Food and beverages</td>\n",
       "      <td>31.84</td>\n",
       "      <td>1</td>\n",
       "      <td>1.5920</td>\n",
       "      <td>33.4320</td>\n",
       "      <td>2/9/2019</td>\n",
       "      <td>13:22</td>\n",
       "      <td>Cash</td>\n",
       "      <td>31.84</td>\n",
       "      <td>4.761905</td>\n",
       "      <td>1.5920</td>\n",
       "      <td>7.7</td>\n",
       "    </tr>\n",
       "    <tr>\n",
       "      <th>998</th>\n",
       "      <td>347-56-2442</td>\n",
       "      <td>A</td>\n",
       "      <td>Yangon</td>\n",
       "      <td>Normal</td>\n",
       "      <td>Male</td>\n",
       "      <td>Home and lifestyle</td>\n",
       "      <td>65.82</td>\n",
       "      <td>1</td>\n",
       "      <td>3.2910</td>\n",
       "      <td>69.1110</td>\n",
       "      <td>2/22/2019</td>\n",
       "      <td>15:33</td>\n",
       "      <td>Cash</td>\n",
       "      <td>65.82</td>\n",
       "      <td>4.761905</td>\n",
       "      <td>3.2910</td>\n",
       "      <td>4.1</td>\n",
       "    </tr>\n",
       "    <tr>\n",
       "      <th>999</th>\n",
       "      <td>849-09-3807</td>\n",
       "      <td>A</td>\n",
       "      <td>Yangon</td>\n",
       "      <td>Member</td>\n",
       "      <td>Female</td>\n",
       "      <td>Fashion accessories</td>\n",
       "      <td>88.34</td>\n",
       "      <td>7</td>\n",
       "      <td>30.9190</td>\n",
       "      <td>649.2990</td>\n",
       "      <td>2/18/2019</td>\n",
       "      <td>13:28</td>\n",
       "      <td>Cash</td>\n",
       "      <td>618.38</td>\n",
       "      <td>4.761905</td>\n",
       "      <td>30.9190</td>\n",
       "      <td>6.6</td>\n",
       "    </tr>\n",
       "  </tbody>\n",
       "</table>\n",
       "</div>"
      ],
      "text/plain": [
       "      Invoice ID Branch       City Customer type  Gender         Product line  \\\n",
       "995  233-67-5758      C  Naypyitaw        Normal    Male    Health and beauty   \n",
       "996  303-96-2227      B   Mandalay        Normal  Female   Home and lifestyle   \n",
       "997  727-02-1313      A     Yangon        Member    Male   Food and beverages   \n",
       "998  347-56-2442      A     Yangon        Normal    Male   Home and lifestyle   \n",
       "999  849-09-3807      A     Yangon        Member  Female  Fashion accessories   \n",
       "\n",
       "     Unit price  Quantity   Tax 5%      Total       Date   Time  Payment  \\\n",
       "995       40.35         1   2.0175    42.3675  1/29/2019  13:46  Ewallet   \n",
       "996       97.38        10  48.6900  1022.4900   3/2/2019  17:16  Ewallet   \n",
       "997       31.84         1   1.5920    33.4320   2/9/2019  13:22     Cash   \n",
       "998       65.82         1   3.2910    69.1110  2/22/2019  15:33     Cash   \n",
       "999       88.34         7  30.9190   649.2990  2/18/2019  13:28     Cash   \n",
       "\n",
       "       cogs  gross margin percentage  gross income  Rating  \n",
       "995   40.35                 4.761905        2.0175     6.2  \n",
       "996  973.80                 4.761905       48.6900     4.4  \n",
       "997   31.84                 4.761905        1.5920     7.7  \n",
       "998   65.82                 4.761905        3.2910     4.1  \n",
       "999  618.38                 4.761905       30.9190     6.6  "
      ]
     },
     "execution_count": 38,
     "metadata": {},
     "output_type": "execute_result"
    }
   ],
   "source": [
    "df.tail()"
   ]
  },
  {
   "cell_type": "code",
   "execution_count": 24,
   "id": "6b5e8447-4d8f-4009-b617-7aaf60d5bd65",
   "metadata": {},
   "outputs": [
    {
     "name": "stdout",
     "output_type": "stream",
     "text": [
      "<class 'pandas.core.frame.DataFrame'>\n",
      "RangeIndex: 1000 entries, 0 to 999\n",
      "Data columns (total 17 columns):\n",
      " #   Column                   Non-Null Count  Dtype  \n",
      "---  ------                   --------------  -----  \n",
      " 0   Invoice ID               1000 non-null   object \n",
      " 1   Branch                   1000 non-null   object \n",
      " 2   City                     1000 non-null   object \n",
      " 3   Customer type            1000 non-null   object \n",
      " 4   Gender                   1000 non-null   object \n",
      " 5   Product line             1000 non-null   object \n",
      " 6   Unit price               1000 non-null   float64\n",
      " 7   Quantity                 1000 non-null   int64  \n",
      " 8   Tax 5%                   1000 non-null   float64\n",
      " 9   Total                    1000 non-null   float64\n",
      " 10  Date                     1000 non-null   object \n",
      " 11  Time                     1000 non-null   object \n",
      " 12  Payment                  1000 non-null   object \n",
      " 13  cogs                     1000 non-null   float64\n",
      " 14  gross margin percentage  1000 non-null   float64\n",
      " 15  gross income             1000 non-null   float64\n",
      " 16  Rating                   1000 non-null   float64\n",
      "dtypes: float64(7), int64(1), object(9)\n",
      "memory usage: 132.9+ KB\n"
     ]
    }
   ],
   "source": [
    "df.info()"
   ]
  },
  {
   "cell_type": "code",
   "execution_count": 56,
   "id": "87ce97c1-d1ff-4989-96c1-df979829584a",
   "metadata": {},
   "outputs": [
    {
     "name": "stdout",
     "output_type": "stream",
     "text": [
      "['A' 'C' 'B']\n",
      "----------------------------------------\n",
      "['Yangon' 'Naypyitaw' 'Mandalay']\n",
      "----------------------------------------\n",
      "['Member' 'Normal']\n",
      "----------------------------------------\n",
      "['Female' 'Male']\n",
      "----------------------------------------\n",
      "['Health and beauty' 'Electronic accessories' 'Home and lifestyle'\n",
      " 'Sports and travel' 'Food and beverages' 'Fashion accessories']\n",
      "----------------------------------------\n",
      "['Ewallet' 'Cash' 'Credit card']\n",
      "----------------------------------------\n"
     ]
    }
   ],
   "source": [
    "cat_cols = ['Branch', 'City', 'Customer type', 'Gender',\n",
    "       'Product line', 'Payment']\n",
    "for col in cat_cols:\n",
    "    print(df[col].unique())\n",
    "    print('-' * 40)"
   ]
  },
  {
   "cell_type": "code",
   "execution_count": 101,
   "id": "e669f254-0f6d-4f10-a52f-448347f757c2",
   "metadata": {},
   "outputs": [
    {
     "data": {
      "text/plain": [
       "gross margin percentage\n",
       "4.761905    1000\n",
       "Name: count, dtype: int64"
      ]
     },
     "execution_count": 101,
     "metadata": {},
     "output_type": "execute_result"
    }
   ],
   "source": [
    "df['gross margin percentage'].value_counts()"
   ]
  },
  {
   "cell_type": "code",
   "execution_count": 121,
   "id": "257a0a83-4e65-4119-8bae-426cd4990996",
   "metadata": {},
   "outputs": [
    {
     "data": {
      "text/plain": [
       "array([4.761905])"
      ]
     },
     "execution_count": 121,
     "metadata": {},
     "output_type": "execute_result"
    }
   ],
   "source": [
    "(100 * df['gross income'] / df['Total']).round(6).unique()"
   ]
  },
  {
   "cell_type": "markdown",
   "id": "3b9aedfb-5404-4b54-8884-9f57af74706c",
   "metadata": {},
   "source": [
    "- They have a fixed gross margin of approximately 4.8%."
   ]
  },
  {
   "cell_type": "code",
   "execution_count": 107,
   "id": "d6efd5f7-63ae-48b5-8dfb-9a7e642ae699",
   "metadata": {},
   "outputs": [
    {
     "data": {
      "text/plain": [
       "True"
      ]
     },
     "execution_count": 107,
     "metadata": {},
     "output_type": "execute_result"
    }
   ],
   "source": [
    "(df['gross income'] == df['Tax 5%']).all()"
   ]
  },
  {
   "cell_type": "markdown",
   "id": "c0384ab7-33b4-408b-8dc1-0f7ffa742368",
   "metadata": {},
   "source": [
    "- We found that they only make a profit from the 5% tax added to the total price. That explains why they have a fixed gross margin."
   ]
  },
  {
   "cell_type": "code",
   "execution_count": 130,
   "id": "ba4036a3-bcc5-442c-8ac4-9ee67fb55421",
   "metadata": {},
   "outputs": [
    {
     "data": {
      "text/plain": [
       "True"
      ]
     },
     "execution_count": 130,
     "metadata": {},
     "output_type": "execute_result"
    }
   ],
   "source": [
    "# check that gross income is calculated correctly\n",
    "\n",
    "((df.Total - df.cogs).round(4) == df['gross income']).all()"
   ]
  },
  {
   "cell_type": "code",
   "execution_count": 95,
   "id": "26614e7d-9698-4225-9e65-2068a92f9d12",
   "metadata": {},
   "outputs": [
    {
     "data": {
      "text/plain": [
       "0      4.761905\n",
       "1      4.761905\n",
       "2      4.761905\n",
       "3      4.761905\n",
       "4      4.761905\n",
       "         ...   \n",
       "995    4.761905\n",
       "996    4.761905\n",
       "997    4.761905\n",
       "998    4.761905\n",
       "999    4.761905\n",
       "Length: 1000, dtype: float64"
      ]
     },
     "execution_count": 95,
     "metadata": {},
     "output_type": "execute_result"
    }
   ],
   "source": [
    "((df['gross income'] / df.Total) * 100).round(6)"
   ]
  },
  {
   "cell_type": "code",
   "execution_count": 135,
   "id": "6d22942a-8e5d-4b81-9733-f060d28aa815",
   "metadata": {},
   "outputs": [
    {
     "data": {
      "text/plain": [
       "0"
      ]
     },
     "execution_count": 135,
     "metadata": {},
     "output_type": "execute_result"
    }
   ],
   "source": [
    "df.duplicated().sum()"
   ]
  },
  {
   "cell_type": "markdown",
   "id": "eafa8183-9586-4e4c-a5ad-61b257fd1188",
   "metadata": {},
   "source": [
    "#### Data Assessment Conclusion:\n",
    "- No missing values\n",
    "- No duplicate rows\n",
    "- No inconsistencies issues in categorical columns\n",
    "- Measures are calculated correctly\n",
    "- They have a fixed gross margin of approximately 4.8%\n",
    "#### Data Quality Issues\n",
    "- The `Date` and `Time` columns have an incorrect data type"
   ]
  },
  {
   "cell_type": "markdown",
   "id": "8973662a-9113-4ebe-826b-f1caef22f4e2",
   "metadata": {},
   "source": [
    "# Data Cleaning"
   ]
  },
  {
   "cell_type": "markdown",
   "id": "863c61df-50fd-4f2c-9394-72e326e4a6c4",
   "metadata": {},
   "source": [
    "##### Change `Date` column data type from `object` to `datetime` using `pd.to_datetime`"
   ]
  },
  {
   "cell_type": "code",
   "execution_count": 144,
   "id": "1b3bdbd5-438b-4ab8-a484-47d4a3f7e2d7",
   "metadata": {},
   "outputs": [],
   "source": [
    "df['Date'] = pd.to_datetime(df['Date'])"
   ]
  },
  {
   "cell_type": "markdown",
   "id": "94a4080e-33c6-4ee0-98db-10a572b6aa71",
   "metadata": {},
   "source": [
    "##### Test"
   ]
  },
  {
   "cell_type": "code",
   "execution_count": 153,
   "id": "e2db7517-57ef-4bdd-8727-7f035c1fef6b",
   "metadata": {},
   "outputs": [
    {
     "data": {
      "text/plain": [
       "0   2019-01-05\n",
       "1   2019-03-08\n",
       "2   2019-03-03\n",
       "3   2019-01-27\n",
       "4   2019-02-08\n",
       "Name: Date, dtype: datetime64[ns]"
      ]
     },
     "execution_count": 153,
     "metadata": {},
     "output_type": "execute_result"
    }
   ],
   "source": [
    "df['Date'].head()"
   ]
  },
  {
   "cell_type": "markdown",
   "id": "95de9916-e641-4e6b-94ee-668b0877dae8",
   "metadata": {},
   "source": [
    "##### Extract the hour from the `Time` column"
   ]
  },
  {
   "cell_type": "code",
   "execution_count": 171,
   "id": "b77c2723-b58f-4b22-8ec9-0f4c13df0cc0",
   "metadata": {},
   "outputs": [],
   "source": [
    "df['hour'] = df.Time.apply(lambda x: x.split(':')[0])"
   ]
  },
  {
   "cell_type": "markdown",
   "id": "a029960e-71fb-4f61-99fa-1a5846f7177a",
   "metadata": {},
   "source": [
    "##### Test"
   ]
  },
  {
   "cell_type": "code",
   "execution_count": 174,
   "id": "291e094e-8494-4b76-80ba-73522933e2ff",
   "metadata": {},
   "outputs": [
    {
     "data": {
      "text/plain": [
       "hour\n",
       "19    113\n",
       "13    103\n",
       "15    102\n",
       "10    101\n",
       "18     93\n",
       "11     90\n",
       "12     89\n",
       "14     83\n",
       "16     77\n",
       "20     75\n",
       "17     74\n",
       "Name: count, dtype: int64"
      ]
     },
     "execution_count": 174,
     "metadata": {},
     "output_type": "execute_result"
    }
   ],
   "source": [
    "df['hour'].value_counts()"
   ]
  },
  {
   "cell_type": "markdown",
   "id": "0d0986e9-a96f-4f2e-8695-3b286c6f19b1",
   "metadata": {},
   "source": [
    "##### Extract the day of the week from the Date column"
   ]
  },
  {
   "cell_type": "code",
   "execution_count": 186,
   "id": "71028bce-451b-4c58-8a88-f5fe6b70b58c",
   "metadata": {},
   "outputs": [],
   "source": [
    "df['day_of_week'] = df.Date.dt.day_name()"
   ]
  },
  {
   "cell_type": "markdown",
   "id": "4d84abb7-0523-424e-8c28-8c39be2947e5",
   "metadata": {},
   "source": [
    "##### Test"
   ]
  },
  {
   "cell_type": "code",
   "execution_count": 189,
   "id": "54165946-0c39-48c6-b158-ad14c707426b",
   "metadata": {},
   "outputs": [
    {
     "data": {
      "text/plain": [
       "0    Saturday\n",
       "1      Friday\n",
       "2      Sunday\n",
       "3      Sunday\n",
       "4      Friday\n",
       "Name: day_of_week, dtype: object"
      ]
     },
     "execution_count": 189,
     "metadata": {},
     "output_type": "execute_result"
    }
   ],
   "source": [
    "df['day_of_week'] .head()"
   ]
  },
  {
   "cell_type": "markdown",
   "id": "09921abd-72b9-4fb8-8627-40a4da3414a9",
   "metadata": {},
   "source": [
    "# Exploratory Data Analysis"
   ]
  },
  {
   "cell_type": "code",
   "execution_count": null,
   "id": "3f4a8d42-a471-4d3f-a4aa-d8a15c9f4734",
   "metadata": {},
   "outputs": [],
   "source": []
  },
  {
   "cell_type": "code",
   "execution_count": null,
   "id": "8313074b-f867-4a53-89fa-a56ceb68ee0d",
   "metadata": {},
   "outputs": [],
   "source": []
  },
  {
   "cell_type": "code",
   "execution_count": null,
   "id": "0755e5ca-9f2f-4668-b368-40c11d5e4739",
   "metadata": {},
   "outputs": [],
   "source": []
  },
  {
   "cell_type": "code",
   "execution_count": null,
   "id": "d02d6bbc-fb32-415a-834d-b71f4e56f2a1",
   "metadata": {},
   "outputs": [],
   "source": []
  },
  {
   "cell_type": "markdown",
   "id": "a84592d5-08e3-4ba8-8815-4e3cf47a0a15",
   "metadata": {},
   "source": [
    "# Drawing Conclusions"
   ]
  },
  {
   "cell_type": "code",
   "execution_count": null,
   "id": "17daf338-406e-4c86-8ab3-913b7089e155",
   "metadata": {},
   "outputs": [],
   "source": []
  },
  {
   "cell_type": "code",
   "execution_count": null,
   "id": "39f4dc87-03d1-4df4-819c-7bdef2d56304",
   "metadata": {},
   "outputs": [],
   "source": []
  },
  {
   "cell_type": "code",
   "execution_count": null,
   "id": "fd8d7956-abe0-4eea-a15f-b3e9b938b2c1",
   "metadata": {},
   "outputs": [],
   "source": []
  },
  {
   "cell_type": "code",
   "execution_count": null,
   "id": "c4ff5ef3-d655-409d-9b21-4549f3c3213e",
   "metadata": {},
   "outputs": [],
   "source": []
  },
  {
   "cell_type": "markdown",
   "id": "e856245b-01a6-4f5d-922f-19c5338385d1",
   "metadata": {},
   "source": [
    "# Communicating Results"
   ]
  },
  {
   "cell_type": "code",
   "execution_count": null,
   "id": "38321681-0d5a-4097-a354-29d541879012",
   "metadata": {},
   "outputs": [],
   "source": []
  },
  {
   "cell_type": "code",
   "execution_count": null,
   "id": "bdfaa685-83c0-430c-b1d8-a7547092a679",
   "metadata": {},
   "outputs": [],
   "source": []
  },
  {
   "cell_type": "code",
   "execution_count": null,
   "id": "d5230fb7-cff0-48bb-b37f-4c1e42762f85",
   "metadata": {},
   "outputs": [],
   "source": []
  },
  {
   "cell_type": "code",
   "execution_count": null,
   "id": "fe68a385-ed5c-4435-97e1-deabe4dd8198",
   "metadata": {},
   "outputs": [],
   "source": []
  },
  {
   "cell_type": "code",
   "execution_count": null,
   "id": "190bd33d-7c75-46cd-b967-148452143911",
   "metadata": {},
   "outputs": [],
   "source": []
  }
 ],
 "metadata": {
  "kernelspec": {
   "display_name": "Python 3 (ipykernel)",
   "language": "python",
   "name": "python3"
  },
  "language_info": {
   "codemirror_mode": {
    "name": "ipython",
    "version": 3
   },
   "file_extension": ".py",
   "mimetype": "text/x-python",
   "name": "python",
   "nbconvert_exporter": "python",
   "pygments_lexer": "ipython3",
   "version": "3.12.7"
  }
 },
 "nbformat": 4,
 "nbformat_minor": 5
}
