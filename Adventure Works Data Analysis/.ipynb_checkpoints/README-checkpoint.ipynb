{
 "cells": [
  {
   "cell_type": "markdown",
   "id": "9fdfa8eb-6efd-4b61-af70-56a885440db3",
   "metadata": {},
   "source": [
    "## Overview\n",
    "In this project, I'm going to analyze transactional data that has been gathered over 4 years. The main goal of this analysis is to create visual representations of the data to assess the performance over these years. The primary interest of the stakeholders is in analyzing the profit. Specifically, the focus will be on the analysis of products, customer locations (countries), and time trends to identify any patterns or trends."
   ]
  },
  {
   "cell_type": "markdown",
   "id": "b260ab4f-2d35-4ce2-88a5-ffc1284f45dc",
   "metadata": {},
   "source": [
    "## Data Gathering\n",
    "The data is stored in an Excel file, so I downloaded it and imported it into my analysis file. The file contains six sheets: `DimCustomer`, `DimDate`, `DimGeography`, `DimProduct`, `DimSalesTerritory`, and `FactInternetSales`."
   ]
  },
  {
   "cell_type": "markdown",
   "id": "d69c93a7-66a8-4236-9da0-fdaa8194647a",
   "metadata": {},
   "source": [
    "## Data Assessing & Cleaning  \n",
    "##### Using **Power Query**\n",
    "\n",
    "### `FactInternetSales` Table\n",
    "- We do not need all the columns in the `FactInternetSales` table for our analysis. Therefore, we will retain only the following necessary columns:  \n",
    "  - `ProductKey`, `OrderDateKey`, `DueDateKey`, `ShipDateKey`, `CustomerKey`, `SalesTerritoryKey`, `OrderQuantity`, `UnitPrice`, and `ProductStandardCost`.\n",
    "\n",
    "- We calculated the revenue:  \n",
    "  - A custom column named `Total Revenue` was created using the following formula:  \n",
    "    ```powerquery\n",
    "    = Table.AddColumn(#\"Changed Type1\", \"Total Revenue\", each [OrderQuantity] * [UnitPrice])\n",
    "    ```\n",
    "\n",
    "- We calculated the Cost of Goods Sold (COGs):  \n",
    "  - A new column named `COGs` was created using the following formula:  \n",
    "    ```powerquery\n",
    "    = Table.AddColumn(#\"Changed Type2\", \"COGs\", each [OrderQuantity] * [ProductStandardCost])\n",
    "    ```\n",
    "\n",
    "- We calculated the total profit:  \n",
    "  - A new column named `Total Profit` was created using the following formula:  \n",
    "    ```powerquery\n",
    "    = Table.AddColumn(#\"Changed Type3\", \"Total Profit\", each [Total Revenue] - [COGs])\n",
    "    ```\n",
    "\n",
    "---\n",
    "\n",
    "### `DimSalesTerritory` Table\n",
    "- Removed the row where `SalesTerritoryKey` equals 11 because it has no value.\n",
    "- Removed the `SalesTerritoryImage` column because it contains only null values.\n",
    "\n",
    "---\n",
    "\n",
    "### `DimProduct` Table\n",
    "- Selected only the following columns for use in our analysis:  \n",
    "  - `ProductKey`, `EnglishProductName`, and `Color`.\n",
    "- Replaced `NA` values in the `Color` column with `Unspecified`.\n",
    "\n",
    "---\n",
    "\n",
    "### `DimGeography` Table\n",
    "- Selected only the following columns for use in our analysis:  \n",
    "  - `GeographyKey`, `City`, `EnglishCountryRegionName`, and `SalesTerritoryKey`.\n",
    "\n",
    "---\n",
    "\n",
    "### `DimDate` Table\n",
    "- Since we are rebuilding this table from scratch, we deleted all columns except `FullDateAlternateKey`.\n",
    "- Created a new column for `Year` and filtered it to include only the years 2005 to 2008, as these are the years present in the dataset.\n",
    "- Created new columns for:\n",
    "  - Month number (`MonthNumber`).\n",
    "  - Month name (`MonthName`) shortened to three characters (e.g., \"Jan\", \"Feb\").\n",
    "- Created a day name column (`DayName`).\n",
    "- Created a new column called `WeekType` that categorizes days as either \"Weekend\" or \"Weekday\".\n",
    "- Created a new column for year quarters (`Quarter`) and added a `Q` prefix to each value (e.g., \"Q1\", \"Q2\").\n",
    "\n",
    "---\n",
    "\n",
    "### `DimCustomer` Table\n",
    "- Created a new column called `Full Name` by merging the `FirstName` and `LastName` columns.\n",
    "- Selected the following columns for analysis:  \n",
    "  - `CustomerKey`, `GeographyKey`, `CustomerAlternateKey`, `Full Name`, `BirthDate`, and `Gender`."
   ]
  },
  {
   "cell_type": "code",
   "execution_count": null,
   "id": "ce4dfc1e-7e31-45e2-9d03-44d4bb408793",
   "metadata": {},
   "outputs": [],
   "source": []
  }
 ],
 "metadata": {
  "kernelspec": {
   "display_name": "Python 3 (ipykernel)",
   "language": "python",
   "name": "python3"
  },
  "language_info": {
   "codemirror_mode": {
    "name": "ipython",
    "version": 3
   },
   "file_extension": ".py",
   "mimetype": "text/x-python",
   "name": "python",
   "nbconvert_exporter": "python",
   "pygments_lexer": "ipython3",
   "version": "3.12.7"
  }
 },
 "nbformat": 4,
 "nbformat_minor": 5
}
