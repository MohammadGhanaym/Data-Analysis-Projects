{
 "cells": [
  {
   "cell_type": "markdown",
   "id": "3aac3319-f034-4081-9227-79f38d95f3fd",
   "metadata": {},
   "source": [
    "# Overview\n",
    "In this project, we analyzed productivity and downtime data for a soda bottling production line, which includes information on the operator, product, start and end times, and the factors contributing to downtime for each batch.\n",
    "\n",
    "We will assist them in answering questions such as:\n",
    "- What is the current line efficiency? (Min Time / Actual Time) * 100\n",
    "- Are any operators underperforming?\n",
    "- What are the main factors causing downtime?\n",
    "- Do any operators face challenges with specific types of operator error?"
   ]
  },
  {
   "cell_type": "markdown",
   "id": "18b388b7-f243-4ab2-a484-95625d0ad4fa",
   "metadata": {},
   "source": [
    "# Data Gathering"
   ]
  },
  {
   "cell_type": "markdown",
   "id": "d338d0d0-42b6-4da6-8e54-31288b38d153",
   "metadata": {},
   "source": [
    "We downloaded the dataset from [Maven Analytics](https://mavenanalytics.io/data-playground?dataStructure=Multiple%20tables&order=date_added%2Cdesc&tags=Business&tags=Environment&tags=Finance&tags=Food%20%26%20Beverage&tags=Government&tags=Healthcare&tags=Human%20Resources&tags=Retail&tags=Survey&tags=Time%20Series&tags=Transportation), titled `Manufacturing Downtime`. It contains four tables.\n",
    "\n",
    "Here is a description for each column:\n",
    "\n",
    "\n",
    "| Table             | Field             | Description                                                             |\n",
    "|------------------|-------------------|-------------------------------------------------------------------------|\n",
    "| Line productivity | Date              | Date the batch was produced                                             |\n",
    "| Line productivity | Product           | ID for the product produced in the batch                                |\n",
    "| Line productivity | Batch             | Unique ID for the batch produced                                        |\n",
    "| Line productivity | Operator          | Production line operator in charge of the batch                         |\n",
    "| Line productivity | Start Time        | Time the batch production started                                       |\n",
    "| Line productivity | End Time          | Time the batch production ended                                         |\n",
    "| Products          | Flavor            | Soda flavor for the product                                             |\n",
    "| Products          | Size              | Product size (volume)                                                   |\n",
    "| Products          | Min batch time    | Minimum time required to produce a batch (with no downtime)            |\n",
    "| Line downtime     | Downtime factor | Downtime minutes for each factor ID (each factor is a column)          |\n",
    "| Downtime factors  | Factor            | Unique ID for each downtime factor                                      |\n",
    "| Downtime factors  | Description       | Downtime factor description                                             |\n",
    "| Downtime factors  | Operator Error    | Indicates if the downtime was due to operator error (Yes/No)           |\n"
   ]
  },
  {
   "cell_type": "markdown",
   "id": "410eb318-4119-4713-a251-68129b8c2ae8",
   "metadata": {},
   "source": [
    "# Exploratory Data Analysis"
   ]
  },
  {
   "attachments": {},
   "cell_type": "markdown",
   "id": "f4cab9bc-ae19-4084-a162-0306b3b3b224",
   "metadata": {},
   "source": [
    "### Data Assessment and Cleaning\n",
    "- There are no missing values.\n",
    "- There are no duplicate rows.\n",
    "- Downtime factors table\n",
    "    - Twelve factors may lead to downtime. Half of them are due to operator errors.\n",
    "- Line downtime table\n",
    "    - This table is untidy. Each column does not represent a variable. It is pivoted. We need to unpivot it.\n",
    "    - Use the first row as headers. Then select the `Batch` column and choose **Unpivot Other Columns** from the **Transform** menu.\n",
    "    - You will get 3 columns:\n",
    "        - `Batch`: Unique ID for the batch produced\n",
    "        - `Factor`: Unique ID for each downtime factor\n",
    "        - `Downtime`:  Downtime minutes for each factor ID\n",
    "- Line productivity table\n",
    "    -  Modify the data types of the `Start Time` and `End Time` columns to the **Time** data type.\n",
    "    -  Create a new column to represent the batch's actual time in minutes by subtracting the start time from the end time.\n",
    "    -  Use this formula to handle periods that cross midnight:\n",
    "      \n",
    "```\n",
    "      Number.Round((if([Start Time] > [End Time]) then [End Time] - [Start Time] + 1 else [End Time] - [Start Time]) * 1440, 0)\n",
    "```"
   ]
  },
  {
   "cell_type": "code",
   "execution_count": null,
   "id": "004e21e9-adbc-447b-b20b-d230f5930fcc",
   "metadata": {},
   "outputs": [],
   "source": []
  }
 ],
 "metadata": {
  "kernelspec": {
   "display_name": "Python 3 (ipykernel)",
   "language": "python",
   "name": "python3"
  },
  "language_info": {
   "codemirror_mode": {
    "name": "ipython",
    "version": 3
   },
   "file_extension": ".py",
   "mimetype": "text/x-python",
   "name": "python",
   "nbconvert_exporter": "python",
   "pygments_lexer": "ipython3",
   "version": "3.12.7"
  }
 },
 "nbformat": 4,
 "nbformat_minor": 5
}
